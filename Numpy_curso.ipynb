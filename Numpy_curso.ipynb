{
  "nbformat": 4,
  "nbformat_minor": 0,
  "metadata": {
    "colab": {
      "provenance": [],
      "authorship_tag": "ABX9TyNAvLtRV3L31nTgRO2P6tgQ",
      "include_colab_link": true
    },
    "kernelspec": {
      "name": "python3",
      "display_name": "Python 3"
    },
    "language_info": {
      "name": "python"
    }
  },
  "cells": [
    {
      "cell_type": "markdown",
      "metadata": {
        "id": "view-in-github",
        "colab_type": "text"
      },
      "source": [
        "<a href=\"https://colab.research.google.com/github/felipesayegg/Python-para-Data-Science/blob/main/Numpy_curso.ipynb\" target=\"_parent\"><img src=\"https://colab.research.google.com/assets/colab-badge.svg\" alt=\"Open In Colab\"/></a>"
      ]
    },
    {
      "cell_type": "code",
      "execution_count": 124,
      "metadata": {
        "id": "SjLjfVd7N257"
      },
      "outputs": [],
      "source": [
        "import numpy as np # chamando a biblioteca"
      ]
    },
    {
      "cell_type": "markdown",
      "source": [
        "O parâmetro usecols=np.arange(1, 88, 1) é utilizado para indicar quais colunas do arquivo você deseja carregar. Vamos entender melhor como isso funciona:\n",
        "\n",
        "np.arange(1, 88, 1): Essa função do NumPy gera um array com uma sequência de números. No seu caso, ela cria uma lista que começa em 1, vai até 87 e incrementa de 1 em 1. O resultado será um array que contém os números de 1 a 87.\n",
        "\n",
        "Uso em loadtxt(): Ao passar esse array para o parâmetro usecols, você está dizendo ao NumPy para carregar apenas as colunas correspondentes a esses índices. Como a contagem de colunas começa em 0, isso significa que você está carregando todas as colunas do arquivo, exceto a primeira (que contém os nomes das cidades)."
      ],
      "metadata": {
        "id": "IhTL_zAJRT6A"
      }
    },
    {
      "cell_type": "code",
      "source": [
        "url = 'https://raw.githubusercontent.com/alura-cursos/numpy/dados/apples_ts.csv'"
      ],
      "metadata": {
        "id": "wYwm9bFbzX7p"
      },
      "execution_count": 125,
      "outputs": []
    },
    {
      "cell_type": "code",
      "source": [
        "dado = np.loadtxt(url, delimiter= ',', usecols = np.arange(1,88,1)) # carregou os dados usando o np que é otimo para carregar dados numericos diferente de pandas.\n",
        "# o delimiter é para avisar a divisão dos sados do arquivo csv e o usecils = .np.arange est informando a coluna de inicio ate a final que vamos trabalhar e de quantas vamos pular\n",
        "# Usei usando url para puxar os dados"
      ],
      "metadata": {
        "id": "3KHuxq5AOvvN"
      },
      "execution_count": 126,
      "outputs": []
    },
    {
      "cell_type": "code",
      "source": [
        "dado"
      ],
      "metadata": {
        "colab": {
          "base_uri": "https://localhost:8080/"
        },
        "id": "3Kv_4h1VzvSf",
        "outputId": "ac5539d9-63f9-4ca5-eda1-0212b7c312e4"
      },
      "execution_count": 127,
      "outputs": [
        {
          "output_type": "execute_result",
          "data": {
            "text/plain": [
              "array([[  1.2013,   2.2013,   3.2013,   4.2013,   5.2013,   6.2013,\n",
              "          7.2013,   8.2013,   9.2013,  10.2013,  11.2013,  12.2013,\n",
              "          1.2014,   2.2014,   3.2014,   4.2014,   5.2014,   6.2014,\n",
              "          7.2014,   8.2014,   9.2014,  10.2014,  11.2014,  12.2014,\n",
              "          1.2015,   2.2015,   3.2015,   4.2015,   5.2015,   6.2015,\n",
              "          7.2015,   8.2015,   9.2015,  10.2015,  11.2015,  12.2015,\n",
              "          1.2016,   2.2016,   3.2016,   4.2016,   5.2016,   6.2016,\n",
              "          7.2016,   8.2016,   9.2016,  10.2016,  11.2016,  12.2016,\n",
              "          1.2017,   2.2017,   3.2017,   4.2017,   5.2017,   6.2017,\n",
              "          7.2017,   8.2017,   9.2017,  10.2017,  11.2017,  12.2017,\n",
              "          1.2018,   2.2018,   3.2018,   4.2018,   5.2018,   6.2018,\n",
              "          7.2018,   8.2018,   9.2018,  10.2018,  11.2018,  12.2018,\n",
              "          1.2019,   2.2019,   3.2019,   4.2019,   5.2019,   6.2019,\n",
              "          7.2019,   8.2019,   9.2019,  10.2019,  11.2019,  12.2019,\n",
              "          1.202 ,   2.202 ,   3.202 ],\n",
              "       [ 79.72  ,  81.08  ,  79.68  ,  79.8   ,  80.63  ,  80.8   ,\n",
              "         80.28  ,  78.99  ,  76.77  ,  76.09  ,  76.36  ,  77.16  ,\n",
              "         77.5   ,  79.03  ,  80.28  ,  80.05  ,  78.11  ,  76.9   ,\n",
              "         77.68  ,  76.05  ,  75.53  ,  73.39  ,  78.36  ,  89.16  ,\n",
              "        105.43  , 104.82  , 101.15  ,  98.63  ,  99.96  ,  97.29  ,\n",
              "         98.64  , 104.26  , 102.63  ,  98.64  ,  97.17  ,  98.09  ,\n",
              "        103.07  , 110.26  , 110.84  , 112.28  , 111.1   , 110.06  ,\n",
              "        113.7   , 112.88  , 102.08  ,  95.54  ,  91.33  ,  89.99  ,\n",
              "         91.44  ,  93.51  ,  93.6   ,  93.78  ,  98.91  , 121.76  ,\n",
              "        129.6   , 127.9   , 114.55  , 101.88  ,  99.09  , 103.35  ,\n",
              "        106.58  , 108.    , 114.95  , 121.17  , 122.48  , 127.58  ,\n",
              "        131.89  , 129.36  , 104.26  ,  93.45  ,  92.93  ,  96.15  ,\n",
              "         99.1   , 103.    , 103.31  , 103.01  , 107.37  , 116.91  ,\n",
              "        125.29  , 123.94  , 113.03  , 102.19  ,  97.83  , 101.07  ,\n",
              "        103.44  , 108.23  , 110.28  ],\n",
              "       [ 42.67  ,  44.37  ,  44.73  ,  46.75  ,      nan,  51.59  ,\n",
              "         57.8   ,  62.14  ,  56.76  ,  50.85  ,  46.43  ,  46.73  ,\n",
              "         45.85  ,  49.25  ,  48.14  ,  49.18  ,  49.49  ,  49.83  ,\n",
              "         49.14  ,  63.21  ,  61.2   ,  60.34  ,  62.2   ,  74.2   ,\n",
              "         75.32  ,  75.92  ,  72.89  ,  74.85  ,  92.19  ,  99.7   ,\n",
              "        102.78  ,  92.67  ,  90.63  ,  83.31  ,  75.5   ,  74.6   ,\n",
              "         76.94  ,  83.04  ,  80.74  ,  80.29  ,  82.82  ,  86.29  ,\n",
              "         87.41  ,  85.1   ,  78.08  ,  76.06  ,  69.23  ,  69.04  ,\n",
              "         64.48  ,  65.73  ,  67.2   ,  70.25  ,  82.59  ,  92.12  ,\n",
              "        100.82  ,  95.23  ,  89.51  ,  82.84  ,  82.3   ,  83.76  ,\n",
              "         84.72  ,  83.91  ,  99.14  , 101.6   , 113.03  , 119.54  ,\n",
              "        118.09  , 107.32  ,  82.6   ,  77.4   ,  71.77  ,  71.25  ,\n",
              "         71.35  ,  73.62  ,  76.2   ,  74.15  ,  75.67  ,  79.2   ,\n",
              "         80.85  ,  85.33  ,  75.02  ,  77.95  ,  78.98  ,  76.55  ,\n",
              "         74.89  ,  70.    ,  81.53  ],\n",
              "       [ 62.55  ,  62.73  ,  63.43  ,  63.83  ,  66.06  ,  69.22  ,\n",
              "         72.07  ,  69.31  ,  65.18  ,  62.13  ,  64.17  ,  65.5   ,\n",
              "         66.85  ,  68.38  ,  68.77  ,  69.32  ,  69.77  ,  70.17  ,\n",
              "         70.76  ,  75.16  ,  74.86  ,  71.47  ,  76.08  ,  82.11  ,\n",
              "         94.63  ,  98.54  ,  97.84  ,  94.54  ,  97.88  ,  97.73  ,\n",
              "        100.89  , 104.88  , 104.39  , 101.9   ,  98.99  ,  99.42  ,\n",
              "        106.37  , 113.89  , 114.78  , 115.6   , 115.89  , 117.66  ,\n",
              "        118.27  , 114.19  , 101.81  ,  91.62  ,  90.15  ,  90.55  ,\n",
              "         92.3   ,  91.75  ,  92.    ,  92.57  , 100.28  , 114.33  ,\n",
              "        122.17  , 117.83  , 112.49  ,  93.7   ,  97.17  ,  95.64  ,\n",
              "        102.21  , 107.58  , 110.48  , 117.73  , 122.07  , 128.58  ,\n",
              "        131.12  , 127.08  , 110.99  ,  97.43  ,  92.05  ,  93.21  ,\n",
              "         98.58  , 100.23  , 102.09  , 101.73  , 107.28  , 115.35  ,\n",
              "        123.03  , 123.08  , 109.71  ,  97.22  ,  95.75  ,  97.09  ,\n",
              "         98.18  , 103.1   , 110.6   ],\n",
              "       [ 48.26  ,  51.01  ,  50.91  ,  53.94  ,  61.27  ,  65.44  ,\n",
              "         56.51  ,  53.    ,  43.87  ,  42.12  ,  43.98  ,  44.66  ,\n",
              "         47.73  ,  52.31  ,  56.8   ,  51.15  ,  54.63  ,  55.8   ,\n",
              "         57.31  ,  53.81  ,  55.5   ,  52.95  ,  53.29  ,  54.86  ,\n",
              "         71.72  ,  74.36  ,  78.25  ,  70.63  ,  77.06  ,  81.52  ,\n",
              "         84.12  ,  83.33  ,  66.98  ,  62.04  ,  59.79  ,  66.06  ,\n",
              "         71.99  ,  76.79  ,  80.98  ,  89.18  ,  92.71  ,  94.85  ,\n",
              "         99.18  ,  86.33  ,  71.94  ,  67.18  ,  62.98  ,  69.45  ,\n",
              "         67.56  ,  67.92  ,  68.4   ,  67.97  ,  76.33  ,  95.79  ,\n",
              "        112.36  ,  82.03  ,  73.83  ,  66.12  ,  63.24  ,  63.98  ,\n",
              "         69.1   ,  70.04  ,  80.03  ,  87.92  ,  97.07  , 106.52  ,\n",
              "        108.93  ,  95.17  ,  74.31  ,  62.63  ,  69.92  ,  70.58  ,\n",
              "         74.63  ,  78.69  ,  81.82  ,  82.36  ,  89.44  , 102.01  ,\n",
              "        116.12  ,  92.06  ,  82.7   ,  66.62  ,  68.11  ,  73.48  ,\n",
              "         82.04  ,  81.19  ,  95.05  ],\n",
              "       [ 71.25  ,  71.35  ,  70.9   ,  71.92  ,  72.91  ,  74.39  ,\n",
              "         73.1   ,  70.24  ,  69.12  ,  68.98  ,  68.58  ,  69.5   ,\n",
              "         70.14  ,  70.58  ,  70.78  ,  72.78  ,  72.84  ,  74.74  ,\n",
              "         76.43  ,  81.2   ,  82.04  ,  79.67  ,  81.25  ,  85.88  ,\n",
              "         91.35  , 101.32  , 102.45  ,  98.18  , 105.1   , 104.85  ,\n",
              "        111.48  , 118.51  , 118.92  , 109.87  , 105.22  , 105.45  ,\n",
              "        115.61  , 116.61  , 120.39  , 119.2   , 119.92  , 120.57  ,\n",
              "        123.37  , 121.39  , 118.16  , 108.84  , 100.78  ,  99.92  ,\n",
              "        100.65  ,  98.92  , 100.31  ,  96.41  , 101.24  , 118.7   ,\n",
              "        133.29  , 130.31  , 122.4   , 104.98  , 107.54  , 110.74  ,\n",
              "        110.51  , 111.46  , 113.42  , 118.15  , 114.    , 124.91  ,\n",
              "        126.06  , 123.3   , 111.61  ,  98.82  ,  97.47  , 103.01  ,\n",
              "        109.36  , 104.79  , 105.09  , 103.16  , 106.52  , 121.68  ,\n",
              "        125.32  , 123.41  , 108.48  ,  98.73  ,  96.25  , 100.12  ,\n",
              "        101.29  , 102.81  , 108.53  ]])"
            ]
          },
          "metadata": {},
          "execution_count": 127
        }
      ]
    },
    {
      "cell_type": "markdown",
      "source": [
        "Em Ciência de Dados existem várias situações nas quais precisamos avaliar dados relacionados a eventos periódicos que acontecem com uma data fixa ou pré-determinada, pois estes podem possuir alguma influência no fenômeno que queremos analisar. Um exemplo de evento que movimenta muitos(as) brasileiros(as) e várias outras pessoas em diferentes países é a Copa do Mundo, organizada pela Federação Internacional de Futebol (FIFA).\n",
        "\n",
        "Dado o exemplo de evento periódico acima, crie um array, utilizando a função np.arange(), que liste todos os anos nos quais aconteceram ou estão previstos de acontecer a Copa do Mundo, considerando o intervalo fechado dos anos de 2000 a 2102."
      ],
      "metadata": {
        "id": "wv5_Lt1_R2Bs"
      }
    },
    {
      "cell_type": "code",
      "source": [
        "import numpy as np #  Biblioteca numpy\n",
        "\n",
        "ano_inicial = 2002\n",
        "ano_final = 2102\n",
        "np.arange(ano_inicial, ano_final + 1, 4) # função arange leva onde comeca o array, o final + 1 para chegar no valor + quanto vai ser o pulo para criar o array."
      ],
      "metadata": {
        "colab": {
          "base_uri": "https://localhost:8080/"
        },
        "id": "MsJ7lUEFR4Cf",
        "outputId": "c7be01fa-2643-4b9a-b23d-4fc2f1f84901"
      },
      "execution_count": 128,
      "outputs": [
        {
          "output_type": "execute_result",
          "data": {
            "text/plain": [
              "array([2002, 2006, 2010, 2014, 2018, 2022, 2026, 2030, 2034, 2038, 2042,\n",
              "       2046, 2050, 2054, 2058, 2062, 2066, 2070, 2074, 2078, 2082, 2086,\n",
              "       2090, 2094, 2098, 2102])"
            ]
          },
          "metadata": {},
          "execution_count": 128
        }
      ]
    },
    {
      "cell_type": "code",
      "source": [
        "import numpy as np\n",
        "import time\n",
        "\n",
        "# cria uma lista com 1000000 elementos\n",
        "lista = list(range(1000000))\n",
        "\n",
        "# transforma a lista em um array Numpy\n",
        "array = np.array(lista)\n",
        "\n",
        "# começa a cronometrar o tempo para a operação com a lista\n",
        "start_time = time.time()\n",
        "\n",
        "# realiza a operação de elevar ao quadrado cada elemento da lista\n",
        "lista_quadrado = [i**2 for i in lista]\n",
        "\n",
        "# para o cronômetro\n",
        "list_time = time.time() - start_time\n",
        "\n",
        "# começa a cronometrar o tempo para a operação com o array\n",
        "start_time = time.time()\n",
        "\n",
        "# realiza a operação de elevar ao quadrado cada elemento do array\n",
        "array_quadrado = array**2\n",
        "\n",
        "# para o cronômetro\n",
        "array_time = time.time() - start_time\n",
        "\n",
        "print(\"Tempo da operação com a lista: \", list_time)\n",
        "print(\"Tempo da operação com o array: \", array_time)"
      ],
      "metadata": {
        "colab": {
          "base_uri": "https://localhost:8080/"
        },
        "id": "QA_cQ3KHy7KP",
        "outputId": "87e3b746-4834-4cac-bc01-e5abfa27174f"
      },
      "execution_count": 129,
      "outputs": [
        {
          "output_type": "stream",
          "name": "stdout",
          "text": [
            "Tempo da operação com a lista:  0.43567490577697754\n",
            "Tempo da operação com o array:  0.011771917343139648\n"
          ]
        }
      ]
    },
    {
      "cell_type": "code",
      "source": [
        "dado.ndim # vai dizer se o database é linha e coluna quando der 2"
      ],
      "metadata": {
        "colab": {
          "base_uri": "https://localhost:8080/"
        },
        "id": "TY2-zK6h02hy",
        "outputId": "2c798ac2-1cdf-4ead-cddb-7563a9381b75"
      },
      "execution_count": 130,
      "outputs": [
        {
          "output_type": "execute_result",
          "data": {
            "text/plain": [
              "2"
            ]
          },
          "metadata": {},
          "execution_count": 130
        }
      ]
    },
    {
      "cell_type": "code",
      "source": [
        "dado.size # quantos elementos tem"
      ],
      "metadata": {
        "colab": {
          "base_uri": "https://localhost:8080/"
        },
        "id": "a5GvKRrcQV7s",
        "outputId": "4052b7cb-1b87-4cfa-e592-6a9841b46659"
      },
      "execution_count": 131,
      "outputs": [
        {
          "output_type": "execute_result",
          "data": {
            "text/plain": [
              "522"
            ]
          },
          "metadata": {},
          "execution_count": 131
        }
      ]
    },
    {
      "cell_type": "code",
      "source": [
        "dado.shape # mostrando quantas linhas tem e colunas"
      ],
      "metadata": {
        "colab": {
          "base_uri": "https://localhost:8080/"
        },
        "id": "3vsFi3wZQZHr",
        "outputId": "c8f97ab1-8494-4bd7-a7d0-3de7d7bc8ae2"
      },
      "execution_count": 132,
      "outputs": [
        {
          "output_type": "execute_result",
          "data": {
            "text/plain": [
              "(6, 87)"
            ]
          },
          "metadata": {},
          "execution_count": 132
        }
      ]
    },
    {
      "cell_type": "code",
      "source": [
        "dado_transposto = dado.T # imagina que a minha array principal inverteu a linha e coluna"
      ],
      "metadata": {
        "id": "SiB0ritGQjmJ"
      },
      "execution_count": 133,
      "outputs": []
    },
    {
      "cell_type": "code",
      "source": [
        "dado_transposto # imprimindo os dados transpostos basicamente antes tinha 6 linhas agora vai ter 86 linhas com a data e depois os preços das 5 cidades"
      ],
      "metadata": {
        "colab": {
          "base_uri": "https://localhost:8080/"
        },
        "id": "bToarjB7aEXp",
        "outputId": "f8c78b90-50d3-47ba-ed28-b2838d41f210"
      },
      "execution_count": 134,
      "outputs": [
        {
          "output_type": "execute_result",
          "data": {
            "text/plain": [
              "array([[  1.2013,  79.72  ,  42.67  ,  62.55  ,  48.26  ,  71.25  ],\n",
              "       [  2.2013,  81.08  ,  44.37  ,  62.73  ,  51.01  ,  71.35  ],\n",
              "       [  3.2013,  79.68  ,  44.73  ,  63.43  ,  50.91  ,  70.9   ],\n",
              "       [  4.2013,  79.8   ,  46.75  ,  63.83  ,  53.94  ,  71.92  ],\n",
              "       [  5.2013,  80.63  ,      nan,  66.06  ,  61.27  ,  72.91  ],\n",
              "       [  6.2013,  80.8   ,  51.59  ,  69.22  ,  65.44  ,  74.39  ],\n",
              "       [  7.2013,  80.28  ,  57.8   ,  72.07  ,  56.51  ,  73.1   ],\n",
              "       [  8.2013,  78.99  ,  62.14  ,  69.31  ,  53.    ,  70.24  ],\n",
              "       [  9.2013,  76.77  ,  56.76  ,  65.18  ,  43.87  ,  69.12  ],\n",
              "       [ 10.2013,  76.09  ,  50.85  ,  62.13  ,  42.12  ,  68.98  ],\n",
              "       [ 11.2013,  76.36  ,  46.43  ,  64.17  ,  43.98  ,  68.58  ],\n",
              "       [ 12.2013,  77.16  ,  46.73  ,  65.5   ,  44.66  ,  69.5   ],\n",
              "       [  1.2014,  77.5   ,  45.85  ,  66.85  ,  47.73  ,  70.14  ],\n",
              "       [  2.2014,  79.03  ,  49.25  ,  68.38  ,  52.31  ,  70.58  ],\n",
              "       [  3.2014,  80.28  ,  48.14  ,  68.77  ,  56.8   ,  70.78  ],\n",
              "       [  4.2014,  80.05  ,  49.18  ,  69.32  ,  51.15  ,  72.78  ],\n",
              "       [  5.2014,  78.11  ,  49.49  ,  69.77  ,  54.63  ,  72.84  ],\n",
              "       [  6.2014,  76.9   ,  49.83  ,  70.17  ,  55.8   ,  74.74  ],\n",
              "       [  7.2014,  77.68  ,  49.14  ,  70.76  ,  57.31  ,  76.43  ],\n",
              "       [  8.2014,  76.05  ,  63.21  ,  75.16  ,  53.81  ,  81.2   ],\n",
              "       [  9.2014,  75.53  ,  61.2   ,  74.86  ,  55.5   ,  82.04  ],\n",
              "       [ 10.2014,  73.39  ,  60.34  ,  71.47  ,  52.95  ,  79.67  ],\n",
              "       [ 11.2014,  78.36  ,  62.2   ,  76.08  ,  53.29  ,  81.25  ],\n",
              "       [ 12.2014,  89.16  ,  74.2   ,  82.11  ,  54.86  ,  85.88  ],\n",
              "       [  1.2015, 105.43  ,  75.32  ,  94.63  ,  71.72  ,  91.35  ],\n",
              "       [  2.2015, 104.82  ,  75.92  ,  98.54  ,  74.36  , 101.32  ],\n",
              "       [  3.2015, 101.15  ,  72.89  ,  97.84  ,  78.25  , 102.45  ],\n",
              "       [  4.2015,  98.63  ,  74.85  ,  94.54  ,  70.63  ,  98.18  ],\n",
              "       [  5.2015,  99.96  ,  92.19  ,  97.88  ,  77.06  , 105.1   ],\n",
              "       [  6.2015,  97.29  ,  99.7   ,  97.73  ,  81.52  , 104.85  ],\n",
              "       [  7.2015,  98.64  , 102.78  , 100.89  ,  84.12  , 111.48  ],\n",
              "       [  8.2015, 104.26  ,  92.67  , 104.88  ,  83.33  , 118.51  ],\n",
              "       [  9.2015, 102.63  ,  90.63  , 104.39  ,  66.98  , 118.92  ],\n",
              "       [ 10.2015,  98.64  ,  83.31  , 101.9   ,  62.04  , 109.87  ],\n",
              "       [ 11.2015,  97.17  ,  75.5   ,  98.99  ,  59.79  , 105.22  ],\n",
              "       [ 12.2015,  98.09  ,  74.6   ,  99.42  ,  66.06  , 105.45  ],\n",
              "       [  1.2016, 103.07  ,  76.94  , 106.37  ,  71.99  , 115.61  ],\n",
              "       [  2.2016, 110.26  ,  83.04  , 113.89  ,  76.79  , 116.61  ],\n",
              "       [  3.2016, 110.84  ,  80.74  , 114.78  ,  80.98  , 120.39  ],\n",
              "       [  4.2016, 112.28  ,  80.29  , 115.6   ,  89.18  , 119.2   ],\n",
              "       [  5.2016, 111.1   ,  82.82  , 115.89  ,  92.71  , 119.92  ],\n",
              "       [  6.2016, 110.06  ,  86.29  , 117.66  ,  94.85  , 120.57  ],\n",
              "       [  7.2016, 113.7   ,  87.41  , 118.27  ,  99.18  , 123.37  ],\n",
              "       [  8.2016, 112.88  ,  85.1   , 114.19  ,  86.33  , 121.39  ],\n",
              "       [  9.2016, 102.08  ,  78.08  , 101.81  ,  71.94  , 118.16  ],\n",
              "       [ 10.2016,  95.54  ,  76.06  ,  91.62  ,  67.18  , 108.84  ],\n",
              "       [ 11.2016,  91.33  ,  69.23  ,  90.15  ,  62.98  , 100.78  ],\n",
              "       [ 12.2016,  89.99  ,  69.04  ,  90.55  ,  69.45  ,  99.92  ],\n",
              "       [  1.2017,  91.44  ,  64.48  ,  92.3   ,  67.56  , 100.65  ],\n",
              "       [  2.2017,  93.51  ,  65.73  ,  91.75  ,  67.92  ,  98.92  ],\n",
              "       [  3.2017,  93.6   ,  67.2   ,  92.    ,  68.4   , 100.31  ],\n",
              "       [  4.2017,  93.78  ,  70.25  ,  92.57  ,  67.97  ,  96.41  ],\n",
              "       [  5.2017,  98.91  ,  82.59  , 100.28  ,  76.33  , 101.24  ],\n",
              "       [  6.2017, 121.76  ,  92.12  , 114.33  ,  95.79  , 118.7   ],\n",
              "       [  7.2017, 129.6   , 100.82  , 122.17  , 112.36  , 133.29  ],\n",
              "       [  8.2017, 127.9   ,  95.23  , 117.83  ,  82.03  , 130.31  ],\n",
              "       [  9.2017, 114.55  ,  89.51  , 112.49  ,  73.83  , 122.4   ],\n",
              "       [ 10.2017, 101.88  ,  82.84  ,  93.7   ,  66.12  , 104.98  ],\n",
              "       [ 11.2017,  99.09  ,  82.3   ,  97.17  ,  63.24  , 107.54  ],\n",
              "       [ 12.2017, 103.35  ,  83.76  ,  95.64  ,  63.98  , 110.74  ],\n",
              "       [  1.2018, 106.58  ,  84.72  , 102.21  ,  69.1   , 110.51  ],\n",
              "       [  2.2018, 108.    ,  83.91  , 107.58  ,  70.04  , 111.46  ],\n",
              "       [  3.2018, 114.95  ,  99.14  , 110.48  ,  80.03  , 113.42  ],\n",
              "       [  4.2018, 121.17  , 101.6   , 117.73  ,  87.92  , 118.15  ],\n",
              "       [  5.2018, 122.48  , 113.03  , 122.07  ,  97.07  , 114.    ],\n",
              "       [  6.2018, 127.58  , 119.54  , 128.58  , 106.52  , 124.91  ],\n",
              "       [  7.2018, 131.89  , 118.09  , 131.12  , 108.93  , 126.06  ],\n",
              "       [  8.2018, 129.36  , 107.32  , 127.08  ,  95.17  , 123.3   ],\n",
              "       [  9.2018, 104.26  ,  82.6   , 110.99  ,  74.31  , 111.61  ],\n",
              "       [ 10.2018,  93.45  ,  77.4   ,  97.43  ,  62.63  ,  98.82  ],\n",
              "       [ 11.2018,  92.93  ,  71.77  ,  92.05  ,  69.92  ,  97.47  ],\n",
              "       [ 12.2018,  96.15  ,  71.25  ,  93.21  ,  70.58  , 103.01  ],\n",
              "       [  1.2019,  99.1   ,  71.35  ,  98.58  ,  74.63  , 109.36  ],\n",
              "       [  2.2019, 103.    ,  73.62  , 100.23  ,  78.69  , 104.79  ],\n",
              "       [  3.2019, 103.31  ,  76.2   , 102.09  ,  81.82  , 105.09  ],\n",
              "       [  4.2019, 103.01  ,  74.15  , 101.73  ,  82.36  , 103.16  ],\n",
              "       [  5.2019, 107.37  ,  75.67  , 107.28  ,  89.44  , 106.52  ],\n",
              "       [  6.2019, 116.91  ,  79.2   , 115.35  , 102.01  , 121.68  ],\n",
              "       [  7.2019, 125.29  ,  80.85  , 123.03  , 116.12  , 125.32  ],\n",
              "       [  8.2019, 123.94  ,  85.33  , 123.08  ,  92.06  , 123.41  ],\n",
              "       [  9.2019, 113.03  ,  75.02  , 109.71  ,  82.7   , 108.48  ],\n",
              "       [ 10.2019, 102.19  ,  77.95  ,  97.22  ,  66.62  ,  98.73  ],\n",
              "       [ 11.2019,  97.83  ,  78.98  ,  95.75  ,  68.11  ,  96.25  ],\n",
              "       [ 12.2019, 101.07  ,  76.55  ,  97.09  ,  73.48  , 100.12  ],\n",
              "       [  1.202 , 103.44  ,  74.89  ,  98.18  ,  82.04  , 101.29  ],\n",
              "       [  2.202 , 108.23  ,  70.    , 103.1   ,  81.19  , 102.81  ],\n",
              "       [  3.202 , 110.28  ,  81.53  , 110.6   ,  95.05  , 108.53  ]])"
            ]
          },
          "metadata": {},
          "execution_count": 134
        }
      ]
    },
    {
      "cell_type": "code",
      "source": [
        "datas = dado_transposto[:,0] # arracando as datas dos arrays e salvando em uma array so e em uma variavel\n",
        "datas"
      ],
      "metadata": {
        "colab": {
          "base_uri": "https://localhost:8080/"
        },
        "id": "hTDuNafNalig",
        "outputId": "f796bba8-819a-4f7e-c089-526dfecf52c8"
      },
      "execution_count": 135,
      "outputs": [
        {
          "output_type": "execute_result",
          "data": {
            "text/plain": [
              "array([ 1.2013,  2.2013,  3.2013,  4.2013,  5.2013,  6.2013,  7.2013,\n",
              "        8.2013,  9.2013, 10.2013, 11.2013, 12.2013,  1.2014,  2.2014,\n",
              "        3.2014,  4.2014,  5.2014,  6.2014,  7.2014,  8.2014,  9.2014,\n",
              "       10.2014, 11.2014, 12.2014,  1.2015,  2.2015,  3.2015,  4.2015,\n",
              "        5.2015,  6.2015,  7.2015,  8.2015,  9.2015, 10.2015, 11.2015,\n",
              "       12.2015,  1.2016,  2.2016,  3.2016,  4.2016,  5.2016,  6.2016,\n",
              "        7.2016,  8.2016,  9.2016, 10.2016, 11.2016, 12.2016,  1.2017,\n",
              "        2.2017,  3.2017,  4.2017,  5.2017,  6.2017,  7.2017,  8.2017,\n",
              "        9.2017, 10.2017, 11.2017, 12.2017,  1.2018,  2.2018,  3.2018,\n",
              "        4.2018,  5.2018,  6.2018,  7.2018,  8.2018,  9.2018, 10.2018,\n",
              "       11.2018, 12.2018,  1.2019,  2.2019,  3.2019,  4.2019,  5.2019,\n",
              "        6.2019,  7.2019,  8.2019,  9.2019, 10.2019, 11.2019, 12.2019,\n",
              "        1.202 ,  2.202 ,  3.202 ])"
            ]
          },
          "metadata": {},
          "execution_count": 135
        }
      ]
    },
    {
      "cell_type": "code",
      "source": [
        "preços = dado_transposto[:,1:6] # ta tirando so os preços do array dado_transposto\n",
        "preços"
      ],
      "metadata": {
        "colab": {
          "base_uri": "https://localhost:8080/"
        },
        "id": "v2TzbF6NaxwK",
        "outputId": "278e281b-6e59-438e-8ba9-e0a85b799138"
      },
      "execution_count": 136,
      "outputs": [
        {
          "output_type": "execute_result",
          "data": {
            "text/plain": [
              "array([[ 79.72,  42.67,  62.55,  48.26,  71.25],\n",
              "       [ 81.08,  44.37,  62.73,  51.01,  71.35],\n",
              "       [ 79.68,  44.73,  63.43,  50.91,  70.9 ],\n",
              "       [ 79.8 ,  46.75,  63.83,  53.94,  71.92],\n",
              "       [ 80.63,    nan,  66.06,  61.27,  72.91],\n",
              "       [ 80.8 ,  51.59,  69.22,  65.44,  74.39],\n",
              "       [ 80.28,  57.8 ,  72.07,  56.51,  73.1 ],\n",
              "       [ 78.99,  62.14,  69.31,  53.  ,  70.24],\n",
              "       [ 76.77,  56.76,  65.18,  43.87,  69.12],\n",
              "       [ 76.09,  50.85,  62.13,  42.12,  68.98],\n",
              "       [ 76.36,  46.43,  64.17,  43.98,  68.58],\n",
              "       [ 77.16,  46.73,  65.5 ,  44.66,  69.5 ],\n",
              "       [ 77.5 ,  45.85,  66.85,  47.73,  70.14],\n",
              "       [ 79.03,  49.25,  68.38,  52.31,  70.58],\n",
              "       [ 80.28,  48.14,  68.77,  56.8 ,  70.78],\n",
              "       [ 80.05,  49.18,  69.32,  51.15,  72.78],\n",
              "       [ 78.11,  49.49,  69.77,  54.63,  72.84],\n",
              "       [ 76.9 ,  49.83,  70.17,  55.8 ,  74.74],\n",
              "       [ 77.68,  49.14,  70.76,  57.31,  76.43],\n",
              "       [ 76.05,  63.21,  75.16,  53.81,  81.2 ],\n",
              "       [ 75.53,  61.2 ,  74.86,  55.5 ,  82.04],\n",
              "       [ 73.39,  60.34,  71.47,  52.95,  79.67],\n",
              "       [ 78.36,  62.2 ,  76.08,  53.29,  81.25],\n",
              "       [ 89.16,  74.2 ,  82.11,  54.86,  85.88],\n",
              "       [105.43,  75.32,  94.63,  71.72,  91.35],\n",
              "       [104.82,  75.92,  98.54,  74.36, 101.32],\n",
              "       [101.15,  72.89,  97.84,  78.25, 102.45],\n",
              "       [ 98.63,  74.85,  94.54,  70.63,  98.18],\n",
              "       [ 99.96,  92.19,  97.88,  77.06, 105.1 ],\n",
              "       [ 97.29,  99.7 ,  97.73,  81.52, 104.85],\n",
              "       [ 98.64, 102.78, 100.89,  84.12, 111.48],\n",
              "       [104.26,  92.67, 104.88,  83.33, 118.51],\n",
              "       [102.63,  90.63, 104.39,  66.98, 118.92],\n",
              "       [ 98.64,  83.31, 101.9 ,  62.04, 109.87],\n",
              "       [ 97.17,  75.5 ,  98.99,  59.79, 105.22],\n",
              "       [ 98.09,  74.6 ,  99.42,  66.06, 105.45],\n",
              "       [103.07,  76.94, 106.37,  71.99, 115.61],\n",
              "       [110.26,  83.04, 113.89,  76.79, 116.61],\n",
              "       [110.84,  80.74, 114.78,  80.98, 120.39],\n",
              "       [112.28,  80.29, 115.6 ,  89.18, 119.2 ],\n",
              "       [111.1 ,  82.82, 115.89,  92.71, 119.92],\n",
              "       [110.06,  86.29, 117.66,  94.85, 120.57],\n",
              "       [113.7 ,  87.41, 118.27,  99.18, 123.37],\n",
              "       [112.88,  85.1 , 114.19,  86.33, 121.39],\n",
              "       [102.08,  78.08, 101.81,  71.94, 118.16],\n",
              "       [ 95.54,  76.06,  91.62,  67.18, 108.84],\n",
              "       [ 91.33,  69.23,  90.15,  62.98, 100.78],\n",
              "       [ 89.99,  69.04,  90.55,  69.45,  99.92],\n",
              "       [ 91.44,  64.48,  92.3 ,  67.56, 100.65],\n",
              "       [ 93.51,  65.73,  91.75,  67.92,  98.92],\n",
              "       [ 93.6 ,  67.2 ,  92.  ,  68.4 , 100.31],\n",
              "       [ 93.78,  70.25,  92.57,  67.97,  96.41],\n",
              "       [ 98.91,  82.59, 100.28,  76.33, 101.24],\n",
              "       [121.76,  92.12, 114.33,  95.79, 118.7 ],\n",
              "       [129.6 , 100.82, 122.17, 112.36, 133.29],\n",
              "       [127.9 ,  95.23, 117.83,  82.03, 130.31],\n",
              "       [114.55,  89.51, 112.49,  73.83, 122.4 ],\n",
              "       [101.88,  82.84,  93.7 ,  66.12, 104.98],\n",
              "       [ 99.09,  82.3 ,  97.17,  63.24, 107.54],\n",
              "       [103.35,  83.76,  95.64,  63.98, 110.74],\n",
              "       [106.58,  84.72, 102.21,  69.1 , 110.51],\n",
              "       [108.  ,  83.91, 107.58,  70.04, 111.46],\n",
              "       [114.95,  99.14, 110.48,  80.03, 113.42],\n",
              "       [121.17, 101.6 , 117.73,  87.92, 118.15],\n",
              "       [122.48, 113.03, 122.07,  97.07, 114.  ],\n",
              "       [127.58, 119.54, 128.58, 106.52, 124.91],\n",
              "       [131.89, 118.09, 131.12, 108.93, 126.06],\n",
              "       [129.36, 107.32, 127.08,  95.17, 123.3 ],\n",
              "       [104.26,  82.6 , 110.99,  74.31, 111.61],\n",
              "       [ 93.45,  77.4 ,  97.43,  62.63,  98.82],\n",
              "       [ 92.93,  71.77,  92.05,  69.92,  97.47],\n",
              "       [ 96.15,  71.25,  93.21,  70.58, 103.01],\n",
              "       [ 99.1 ,  71.35,  98.58,  74.63, 109.36],\n",
              "       [103.  ,  73.62, 100.23,  78.69, 104.79],\n",
              "       [103.31,  76.2 , 102.09,  81.82, 105.09],\n",
              "       [103.01,  74.15, 101.73,  82.36, 103.16],\n",
              "       [107.37,  75.67, 107.28,  89.44, 106.52],\n",
              "       [116.91,  79.2 , 115.35, 102.01, 121.68],\n",
              "       [125.29,  80.85, 123.03, 116.12, 125.32],\n",
              "       [123.94,  85.33, 123.08,  92.06, 123.41],\n",
              "       [113.03,  75.02, 109.71,  82.7 , 108.48],\n",
              "       [102.19,  77.95,  97.22,  66.62,  98.73],\n",
              "       [ 97.83,  78.98,  95.75,  68.11,  96.25],\n",
              "       [101.07,  76.55,  97.09,  73.48, 100.12],\n",
              "       [103.44,  74.89,  98.18,  82.04, 101.29],\n",
              "       [108.23,  70.  , 103.1 ,  81.19, 102.81],\n",
              "       [110.28,  81.53, 110.6 ,  95.05, 108.53]])"
            ]
          },
          "metadata": {},
          "execution_count": 136
        }
      ]
    },
    {
      "cell_type": "code",
      "source": [
        "import matplotlib.pyplot as plt  # biblioteca matplotlib para construção de graficos"
      ],
      "metadata": {
        "id": "lYUjPKTqcfUI"
      },
      "execution_count": 137,
      "outputs": []
    },
    {
      "cell_type": "code",
      "source": [
        "datas = np.arange(1,88, 1)"
      ],
      "metadata": {
        "id": "rA3v2OC5gY5f"
      },
      "execution_count": 138,
      "outputs": []
    },
    {
      "cell_type": "code",
      "source": [
        "plt.plot(datas,preços[:,0]) # eixo x e depois y , x na horizontal que serias as datas e o Y os preços o preço pegamos todos indici 0 da array preço"
      ],
      "metadata": {
        "colab": {
          "base_uri": "https://localhost:8080/",
          "height": 448
        },
        "id": "BeucEIf9eRPP",
        "outputId": "77e9c7dd-7237-46d1-f4d4-f1a6eb8441d2"
      },
      "execution_count": 139,
      "outputs": [
        {
          "output_type": "execute_result",
          "data": {
            "text/plain": [
              "[<matplotlib.lines.Line2D at 0x7b4e8e35fa30>]"
            ]
          },
          "metadata": {},
          "execution_count": 139
        },
        {
          "output_type": "display_data",
          "data": {
            "text/plain": [
              "<Figure size 640x480 with 1 Axes>"
            ],
            "image/png": "[encoded data removed]"
          },
          "metadata": {}
        }
      ]
    },
    {
      "cell_type": "code",
      "source": [
        "Moscow = preços[:,0] # Aqui basicamente colocamos os preços de moscow tudo dentro dessa variavel\n",
        "Kaliningrad = preços[:,1] # preço no indice 1 tudo na mesma array  e assim por diante\n",
        "Petersburg = preços[:,2]\n",
        "Krasnodar = preços[:,3]\n",
        "Ekaterinburg = preços[:,4]"
      ],
      "metadata": {
        "id": "mYZNS8vxeP9y"
      },
      "execution_count": 140,
      "outputs": []
    },
    {
      "cell_type": "code",
      "source": [
        "Moscow.shape # tem 87 valores dentro dessa array preço Moscow"
      ],
      "metadata": {
        "colab": {
          "base_uri": "https://localhost:8080/"
        },
        "id": "VP-pSuebg70h",
        "outputId": "b9cf985c-b210-4235-dfb3-af2158d60833"
      },
      "execution_count": 141,
      "outputs": [
        {
          "output_type": "execute_result",
          "data": {
            "text/plain": [
              "(87,)"
            ]
          },
          "metadata": {},
          "execution_count": 141
        }
      ]
    },
    {
      "cell_type": "code",
      "source": [
        "Moscow"
      ],
      "metadata": {
        "colab": {
          "base_uri": "https://localhost:8080/"
        },
        "id": "7-6jY23aqGeM",
        "outputId": "f84071fb-b78d-4409-dcf5-021faa99847e"
      },
      "execution_count": 142,
      "outputs": [
        {
          "output_type": "execute_result",
          "data": {
            "text/plain": [
              "array([ 79.72,  81.08,  79.68,  79.8 ,  80.63,  80.8 ,  80.28,  78.99,\n",
              "        76.77,  76.09,  76.36,  77.16,  77.5 ,  79.03,  80.28,  80.05,\n",
              "        78.11,  76.9 ,  77.68,  76.05,  75.53,  73.39,  78.36,  89.16,\n",
              "       105.43, 104.82, 101.15,  98.63,  99.96,  97.29,  98.64, 104.26,\n",
              "       102.63,  98.64,  97.17,  98.09, 103.07, 110.26, 110.84, 112.28,\n",
              "       111.1 , 110.06, 113.7 , 112.88, 102.08,  95.54,  91.33,  89.99,\n",
              "        91.44,  93.51,  93.6 ,  93.78,  98.91, 121.76, 129.6 , 127.9 ,\n",
              "       114.55, 101.88,  99.09, 103.35, 106.58, 108.  , 114.95, 121.17,\n",
              "       122.48, 127.58, 131.89, 129.36, 104.26,  93.45,  92.93,  96.15,\n",
              "        99.1 , 103.  , 103.31, 103.01, 107.37, 116.91, 125.29, 123.94,\n",
              "       113.03, 102.19,  97.83, 101.07, 103.44, 108.23, 110.28])"
            ]
          },
          "metadata": {},
          "execution_count": 142
        }
      ]
    },
    {
      "cell_type": "code",
      "source": [
        "Moscow_ano1 = Moscow[0:12] # quero separar por anos 12 meses então vou salvar na variavel primiero ano segundo ano assim por diante\n",
        "Moscow_ano2 = Moscow[12:24]\n",
        "Moscow_ano3 = Moscow[24:36]\n",
        "Moscow_ano4 = Moscow[36:48]"
      ],
      "metadata": {
        "id": "-SItIqlzp9bm"
      },
      "execution_count": 143,
      "outputs": []
    },
    {
      "cell_type": "code",
      "source": [
        "plt.plot(np.arange(1,13,1), Moscow_ano1)\n",
        "# plotando os dados lembrando que eixo x é os meses e o y o valor\n",
        "plt.plot(np.arange(1,13,1), Moscow_ano2) #\n",
        "plt.plot(np.arange(1,13,1), Moscow_ano3)\n",
        "plt.plot(np.arange(1,13,1), Moscow_ano4)\n",
        "plt.legend(['ano1', 'ano2', 'ano3', 'ano4'])  # forma de adiconar lgenda"
      ],
      "metadata": {
        "colab": {
          "base_uri": "https://localhost:8080/",
          "height": 448
        },
        "id": "cVJaeOXSrQcA",
        "outputId": "db92c73b-95a7-42c5-fe3f-f639342efb9f"
      },
      "execution_count": 144,
      "outputs": [
        {
          "output_type": "execute_result",
          "data": {
            "text/plain": [
              "<matplotlib.legend.Legend at 0x7b4e78fbed10>"
            ]
          },
          "metadata": {},
          "execution_count": 144
        },
        {
          "output_type": "display_data",
          "data": {
            "text/plain": [
              "<Figure size 640x480 with 1 Axes>"
            ],
            "image/png": "[encoded data removed]"
          },
          "metadata": {}
        }
      ]
    },
    {
      "cell_type": "code",
      "source": [
        "np.array_equal(Moscow_ano3, Moscow_ano4) # função que leva dois parametros de array e avalia se elas são iguais"
      ],
      "metadata": {
        "colab": {
          "base_uri": "https://localhost:8080/"
        },
        "id": "Weubo9GrsIAR",
        "outputId": "e14c42e7-ad60-4027-f2a9-7fc801b5127c"
      },
      "execution_count": 145,
      "outputs": [
        {
          "output_type": "execute_result",
          "data": {
            "text/plain": [
              "False"
            ]
          },
          "metadata": {},
          "execution_count": 145
        }
      ]
    },
    {
      "cell_type": "code",
      "source": [
        "np.allclose(Moscow_ano3, Moscow_ano4,5) #Se a diferença entre cada par de elementos (um de cada array) for menor ou igual ao valor que você especificou (neste caso, 5), a função retornará True. Se qualquer par de elementos tiver uma diferença maior que 5, a função retornará False."
      ],
      "metadata": {
        "colab": {
          "base_uri": "https://localhost:8080/"
        },
        "id": "uBVZ2hJstjs0",
        "outputId": "402c6607-53cc-4461-9db7-c714ffc749cb"
      },
      "execution_count": 146,
      "outputs": [
        {
          "output_type": "execute_result",
          "data": {
            "text/plain": [
              "True"
            ]
          },
          "metadata": {},
          "execution_count": 146
        }
      ]
    },
    {
      "cell_type": "code",
      "source": [
        "plt.plot(datas, Kaliningrad) # eixo x é datas e o y valor plt chamdno a bibiloteca e plot é a função que faz o grafico\n"
      ],
      "metadata": {
        "colab": {
          "base_uri": "https://localhost:8080/",
          "height": 448
        },
        "id": "TAC1Gie7udmQ",
        "outputId": "8555b482-a19b-4507-e288-487a482e978c"
      },
      "execution_count": 147,
      "outputs": [
        {
          "output_type": "execute_result",
          "data": {
            "text/plain": [
              "[<matplotlib.lines.Line2D at 0x7b4e7813e7d0>]"
            ]
          },
          "metadata": {},
          "execution_count": 147
        },
        {
          "output_type": "display_data",
          "data": {
            "text/plain": [
              "<Figure size 640x480 with 1 Axes>"
            ],
            "image/png": "[encoded data removed]"
          },
          "metadata": {}
        }
      ]
    },
    {
      "cell_type": "code",
      "source": [
        "Kaliningrad # lembrando que la em cima tirei o preço so dessa cidade e no ultimo codigo tentei plotar o grafico mas como vemos o grafico foi cortado"
      ],
      "metadata": {
        "colab": {
          "base_uri": "https://localhost:8080/"
        },
        "id": "Mn_p5JF9fMwU",
        "outputId": "c46361fb-130e-4fd3-c4b6-23baf39b4a79"
      },
      "execution_count": 148,
      "outputs": [
        {
          "output_type": "execute_result",
          "data": {
            "text/plain": [
              "array([ 42.67,  44.37,  44.73,  46.75,    nan,  51.59,  57.8 ,  62.14,\n",
              "        56.76,  50.85,  46.43,  46.73,  45.85,  49.25,  48.14,  49.18,\n",
              "        49.49,  49.83,  49.14,  63.21,  61.2 ,  60.34,  62.2 ,  74.2 ,\n",
              "        75.32,  75.92,  72.89,  74.85,  92.19,  99.7 , 102.78,  92.67,\n",
              "        90.63,  83.31,  75.5 ,  74.6 ,  76.94,  83.04,  80.74,  80.29,\n",
              "        82.82,  86.29,  87.41,  85.1 ,  78.08,  76.06,  69.23,  69.04,\n",
              "        64.48,  65.73,  67.2 ,  70.25,  82.59,  92.12, 100.82,  95.23,\n",
              "        89.51,  82.84,  82.3 ,  83.76,  84.72,  83.91,  99.14, 101.6 ,\n",
              "       113.03, 119.54, 118.09, 107.32,  82.6 ,  77.4 ,  71.77,  71.25,\n",
              "        71.35,  73.62,  76.2 ,  74.15,  75.67,  79.2 ,  80.85,  85.33,\n",
              "        75.02,  77.95,  78.98,  76.55,  74.89,  70.  ,  81.53])"
            ]
          },
          "metadata": {},
          "execution_count": 148
        }
      ]
    },
    {
      "cell_type": "code",
      "source": [
        "np.isnan(Kaliningrad) # A função np.isnan() do NumPy é utilizada para verificar se os elementos de um array são valores \"NaN\" (Not a Number)."
      ],
      "metadata": {
        "colab": {
          "base_uri": "https://localhost:8080/"
        },
        "id": "j00HhmWJg_MP",
        "outputId": "c0294eb6-f54c-4bbd-fb67-4f57262a3cc1"
      },
      "execution_count": 149,
      "outputs": [
        {
          "output_type": "execute_result",
          "data": {
            "text/plain": [
              "array([False, False, False, False,  True, False, False, False, False,\n",
              "       False, False, False, False, False, False, False, False, False,\n",
              "       False, False, False, False, False, False, False, False, False,\n",
              "       False, False, False, False, False, False, False, False, False,\n",
              "       False, False, False, False, False, False, False, False, False,\n",
              "       False, False, False, False, False, False, False, False, False,\n",
              "       False, False, False, False, False, False, False, False, False,\n",
              "       False, False, False, False, False, False, False, False, False,\n",
              "       False, False, False, False, False, False, False, False, False,\n",
              "       False, False, False, False, False, False])"
            ]
          },
          "metadata": {},
          "execution_count": 149
        }
      ]
    },
    {
      "cell_type": "code",
      "source": [
        "sum(np.isnan(Kaliningrad))  # ele volta a soma de todos valore que deram true no caso 1 deu tru tem um valor que não é numero então precis acorrigir"
      ],
      "metadata": {
        "colab": {
          "base_uri": "https://localhost:8080/"
        },
        "id": "hnyMMaqwiiCO",
        "outputId": "f47b15c5-b9c1-4a16-c6be-aa5a1b7d6d82"
      },
      "execution_count": 150,
      "outputs": [
        {
          "output_type": "execute_result",
          "data": {
            "text/plain": [
              "1"
            ]
          },
          "metadata": {},
          "execution_count": 150
        }
      ]
    },
    {
      "cell_type": "code",
      "source": [
        "(Kaliningrad[3] + Kaliningrad[5]) / 2  #saber a media do valor anterior e o psoterior do valor que deu vazio"
      ],
      "metadata": {
        "colab": {
          "base_uri": "https://localhost:8080/"
        },
        "id": "MWZVe1W6i7Sr",
        "outputId": "09b805ed-3af7-4fb5-9126-cf3b96f52705"
      },
      "execution_count": 151,
      "outputs": [
        {
          "output_type": "execute_result",
          "data": {
            "text/plain": [
              "49.17"
            ]
          },
          "metadata": {},
          "execution_count": 151
        }
      ]
    },
    {
      "cell_type": "code",
      "source": [
        "np.mean([Kaliningrad[3], Kaliningrad[5]]) # media usando a função da numpy mean"
      ],
      "metadata": {
        "colab": {
          "base_uri": "https://localhost:8080/"
        },
        "id": "We25eI-WjQ_W",
        "outputId": "acaa840e-67f3-4796-de48-f4135e477bff"
      },
      "execution_count": 152,
      "outputs": [
        {
          "output_type": "execute_result",
          "data": {
            "text/plain": [
              "49.17"
            ]
          },
          "metadata": {},
          "execution_count": 152
        }
      ]
    },
    {
      "cell_type": "code",
      "source": [
        "Kaliningrad[4] = np.mean([Kaliningrad[3], Kaliningrad[5]]) # substituindo o valor vazio pela media\n",
        "# agora temos certeza que o grafico não vai ter aquele vazio pois subtitumismos"
      ],
      "metadata": {
        "id": "4tIbOYYnjyex"
      },
      "execution_count": 153,
      "outputs": []
    },
    {
      "cell_type": "code",
      "source": [
        "np.mean(Moscow) # media do moscow"
      ],
      "metadata": {
        "colab": {
          "base_uri": "https://localhost:8080/"
        },
        "id": "umGDFwthkBTE",
        "outputId": "65bd6bba-9507-49d1-a4ad-7426fad278fa"
      },
      "execution_count": 154,
      "outputs": [
        {
          "output_type": "execute_result",
          "data": {
            "text/plain": [
              "98.79781609195402"
            ]
          },
          "metadata": {},
          "execution_count": 154
        }
      ]
    },
    {
      "cell_type": "code",
      "source": [
        "np.mean(Kaliningrad) # media do Kaliningrad"
      ],
      "metadata": {
        "colab": {
          "base_uri": "https://localhost:8080/"
        },
        "id": "p1jiLBaWkTex",
        "outputId": "0c99aa2d-2d76-4c03-d168-e3115bcf451c"
      },
      "execution_count": 155,
      "outputs": [
        {
          "output_type": "execute_result",
          "data": {
            "text/plain": [
              "74.5506896551724"
            ]
          },
          "metadata": {},
          "execution_count": 155
        }
      ]
    },
    {
      "cell_type": "code",
      "source": [
        "plt.plot(datas, Moscow)"
      ],
      "metadata": {
        "colab": {
          "base_uri": "https://localhost:8080/",
          "height": 448
        },
        "id": "RAp-c9CXFVw6",
        "outputId": "1c06735b-3e44-4a4b-c961-793f2efeef5d"
      },
      "execution_count": 156,
      "outputs": [
        {
          "output_type": "execute_result",
          "data": {
            "text/plain": [
              "[<matplotlib.lines.Line2D at 0x7b4e65b45510>]"
            ]
          },
          "metadata": {},
          "execution_count": 156
        },
        {
          "output_type": "display_data",
          "data": {
            "text/plain": [
              "<Figure size 640x480 with 1 Axes>"
            ],
            "image/png": "[encoded data removed]"
          },
          "metadata": {}
        }
      ]
    },
    {
      "cell_type": "code",
      "source": [
        "x = datas"
      ],
      "metadata": {
        "id": "WARRmcDMG9dd"
      },
      "execution_count": 157,
      "outputs": []
    },
    {
      "cell_type": "code",
      "source": [
        "y = 2*x+80"
      ],
      "metadata": {
        "id": "V63-e-2dG-Z-"
      },
      "execution_count": 158,
      "outputs": []
    },
    {
      "cell_type": "code",
      "source": [
        "plt.plot(datas,Moscow)\n",
        "plt.plot(x,y)"
      ],
      "metadata": {
        "colab": {
          "base_uri": "https://localhost:8080/",
          "height": 448
        },
        "id": "F31qSr_dHCAN",
        "outputId": "9eb1d1d6-164c-41af-a06a-f38f6b9c887c"
      },
      "execution_count": 159,
      "outputs": [
        {
          "output_type": "execute_result",
          "data": {
            "text/plain": [
              "[<matplotlib.lines.Line2D at 0x7b4e676a6800>]"
            ]
          },
          "metadata": {},
          "execution_count": 159
        },
        {
          "output_type": "display_data",
          "data": {
            "text/plain": [
              "<Figure size 640x480 with 1 Axes>"
            ],
            "image/png": "[encoded data removed]"
          },
          "metadata": {}
        }
      ]
    },
    {
      "cell_type": "code",
      "source": [
        "Moscow -y"
      ],
      "metadata": {
        "colab": {
          "base_uri": "https://localhost:8080/"
        },
        "id": "hS0NVP_REJqg",
        "outputId": "cb1b7472-921e-47f6-aca3-52693c8369f7"
      },
      "execution_count": 160,
      "outputs": [
        {
          "output_type": "execute_result",
          "data": {
            "text/plain": [
              "array([  -2.28,   -2.92,   -6.32,   -8.2 ,   -9.37,  -11.2 ,  -13.72,\n",
              "        -17.01,  -21.23,  -23.91,  -25.64,  -26.84,  -28.5 ,  -28.97,\n",
              "        -29.72,  -31.95,  -35.89,  -39.1 ,  -40.32,  -43.95,  -46.47,\n",
              "        -50.61,  -47.64,  -38.84,  -24.57,  -27.18,  -32.85,  -37.37,\n",
              "        -38.04,  -42.71,  -43.36,  -39.74,  -43.37,  -49.36,  -52.83,\n",
              "        -53.91,  -50.93,  -45.74,  -47.16,  -47.72,  -50.9 ,  -53.94,\n",
              "        -52.3 ,  -55.12,  -67.92,  -76.46,  -82.67,  -86.01,  -86.56,\n",
              "        -86.49,  -88.4 ,  -90.22,  -87.09,  -66.24,  -60.4 ,  -64.1 ,\n",
              "        -79.45,  -94.12,  -98.91,  -96.65,  -95.42,  -96.  ,  -91.05,\n",
              "        -86.83,  -87.52,  -84.42,  -82.11,  -86.64, -113.74, -126.55,\n",
              "       -129.07, -127.85, -126.9 , -125.  , -126.69, -128.99, -126.63,\n",
              "       -119.09, -112.71, -116.06, -128.97, -141.81, -148.17, -146.93,\n",
              "       -146.56, -143.77, -143.72])"
            ]
          },
          "metadata": {},
          "execution_count": 160
        }
      ]
    },
    {
      "cell_type": "code",
      "source": [
        "np.power(Moscow -y,2) # Elevar ao quadrado a difrença elemina os sinais negativos e penaliza erros mariores\n",
        "# isso gera um array com os erros quadraticos"
      ],
      "metadata": {
        "colab": {
          "base_uri": "https://localhost:8080/"
        },
        "id": "_-5zylyhEY1V",
        "outputId": "c710904a-0cb0-49d2-ae83-3f4b83e29ec4"
      },
      "execution_count": 161,
      "outputs": [
        {
          "output_type": "execute_result",
          "data": {
            "text/plain": [
              "array([5.19840000e+00, 8.52640000e+00, 3.99424000e+01, 6.72400000e+01,\n",
              "       8.77969000e+01, 1.25440000e+02, 1.88238400e+02, 2.89340100e+02,\n",
              "       4.50712900e+02, 5.71688100e+02, 6.57409600e+02, 7.20385600e+02,\n",
              "       8.12250000e+02, 8.39260900e+02, 8.83278400e+02, 1.02080250e+03,\n",
              "       1.28809210e+03, 1.52881000e+03, 1.62570240e+03, 1.93160250e+03,\n",
              "       2.15946090e+03, 2.56137210e+03, 2.26956960e+03, 1.50854560e+03,\n",
              "       6.03684900e+02, 7.38752400e+02, 1.07912250e+03, 1.39651690e+03,\n",
              "       1.44704160e+03, 1.82414410e+03, 1.88008960e+03, 1.57926760e+03,\n",
              "       1.88095690e+03, 2.43640960e+03, 2.79100890e+03, 2.90628810e+03,\n",
              "       2.59386490e+03, 2.09214760e+03, 2.22406560e+03, 2.27719840e+03,\n",
              "       2.59081000e+03, 2.90952360e+03, 2.73529000e+03, 3.03821440e+03,\n",
              "       4.61312640e+03, 5.84613160e+03, 6.83432890e+03, 7.39772010e+03,\n",
              "       7.49263360e+03, 7.48052010e+03, 7.81456000e+03, 8.13964840e+03,\n",
              "       7.58466810e+03, 4.38773760e+03, 3.64816000e+03, 4.10881000e+03,\n",
              "       6.31230250e+03, 8.85857440e+03, 9.78318810e+03, 9.34122250e+03,\n",
              "       9.10497640e+03, 9.21600000e+03, 8.29010250e+03, 7.53944890e+03,\n",
              "       7.65975040e+03, 7.12673640e+03, 6.74205210e+03, 7.50648960e+03,\n",
              "       1.29367876e+04, 1.60149025e+04, 1.66590649e+04, 1.63456225e+04,\n",
              "       1.61036100e+04, 1.56250000e+04, 1.60503561e+04, 1.66384201e+04,\n",
              "       1.60351569e+04, 1.41824281e+04, 1.27035441e+04, 1.34699236e+04,\n",
              "       1.66332609e+04, 2.01100761e+04, 2.19543489e+04, 2.15884249e+04,\n",
              "       2.14798336e+04, 2.06698129e+04, 2.06554384e+04])"
            ]
          },
          "metadata": {},
          "execution_count": 161
        }
      ]
    },
    {
      "cell_type": "code",
      "source": [
        "np.sum(np.power(Moscow -y,2)) # soma dos erros quadraticos fornece uma unica metrica que representa a qualidade do ajuste\n",
        "# resultado é um numero que indica o qual bem a reta se ajusta aos dados"
      ],
      "metadata": {
        "colab": {
          "base_uri": "https://localhost:8080/"
        },
        "id": "GshF7YTYEpD5",
        "outputId": "7c360b62-a95c-4799-929a-46aa25dabc4a"
      },
      "execution_count": 162,
      "outputs": [
        {
          "output_type": "execute_result",
          "data": {
            "text/plain": [
              "561349.9641"
            ]
          },
          "metadata": {},
          "execution_count": 162
        }
      ]
    },
    {
      "cell_type": "code",
      "source": [
        "np.sqrt(np.sum(np.power(Moscow -y,2))) # Teoria: A raiz quadrada é aplicada para trazer a métrica de volta à mesma unidade dos dados originais.\n",
        "# Prática: O resultado é uma medida da qualidade do ajuste, onde valores menores indicam um melhor ajuste."
      ],
      "metadata": {
        "colab": {
          "base_uri": "https://localhost:8080/"
        },
        "id": "HPQUGUh8ExXI",
        "outputId": "d4ecef62-ee16-41ad-fd97-8c787875bc99"
      },
      "execution_count": 163,
      "outputs": [
        {
          "output_type": "execute_result",
          "data": {
            "text/plain": [
              "749.2329171225728"
            ]
          },
          "metadata": {},
          "execution_count": 163
        }
      ]
    },
    {
      "cell_type": "code",
      "source": [
        "y = 0.52*x+80"
      ],
      "metadata": {
        "id": "4-K7sz5LGd5A"
      },
      "execution_count": 164,
      "outputs": []
    },
    {
      "cell_type": "code",
      "source": [
        "plt.plot(datas,Moscow) # construir o grafico com x horizontal datas e valores de moscow y vertical\n",
        "plt.plot(x,y) # Construir uma linha de regressão linear em cima do meu grafico para ver se a reta esta passando direto peloes meus dados origansi"
      ],
      "metadata": {
        "colab": {
          "base_uri": "https://localhost:8080/",
          "height": 448
        },
        "id": "tq5tAm-dG71A",
        "outputId": "50e14287-d6c6-4cea-aa91-6ed22a3eb32c"
      },
      "execution_count": 165,
      "outputs": [
        {
          "output_type": "execute_result",
          "data": {
            "text/plain": [
              "[<matplotlib.lines.Line2D at 0x7b4e8e4ec130>]"
            ]
          },
          "metadata": {},
          "execution_count": 165
        },
        {
          "output_type": "display_data",
          "data": {
            "text/plain": [
              "<Figure size 640x480 with 1 Axes>"
            ],
            "image/png": "[encoded data removed]"
          },
          "metadata": {}
        }
      ]
    },
    {
      "cell_type": "code",
      "source": [
        "np.sqrt(np.sum(np.power(Moscow -y,2))) # Teoria: A raiz quadrada é aplicada para trazer a métrica de volta à mesma unidade dos dados originais.\n",
        "# Prática: O resultado é uma medida da qualidade do ajuste, onde valores menores indicam um melhor ajuste."
      ],
      "metadata": {
        "colab": {
          "base_uri": "https://localhost:8080/"
        },
        "id": "fVBuXNGEI3tH",
        "outputId": "357483b5-bf8c-40dc-f295-5d3e6dbee666"
      },
      "execution_count": 166,
      "outputs": [
        {
          "output_type": "execute_result",
          "data": {
            "text/plain": [
              "110.48504740461489"
            ]
          },
          "metadata": {},
          "execution_count": 166
        }
      ]
    },
    {
      "cell_type": "code",
      "source": [
        "np.linalg.norm(Moscow -y)  # A função np.linalg.norm() é uma ferramenta poderosa para várias operações matemáticas e análise de dados.  A função calcula a distância entre os vetores Moscow e y utilizando a norma 2, o que envolve:\n",
        "\n",
        "#Subtrair os vetores.\n",
        "#Elevar ao quadrado as diferenças.\n",
        "#Somar os resultados.\n",
        "#Extrair a raiz quadrada dessa soma."
      ],
      "metadata": {
        "colab": {
          "base_uri": "https://localhost:8080/"
        },
        "id": "9viwDACaI561",
        "outputId": "e20cdd83-7865-427a-8305-3685d25093c4"
      },
      "execution_count": 167,
      "outputs": [
        {
          "output_type": "execute_result",
          "data": {
            "text/plain": [
              "110.48504740461489"
            ]
          },
          "metadata": {},
          "execution_count": 167
        }
      ]
    },
    {
      "cell_type": "markdown",
      "source": [],
      "metadata": {
        "id": "nPzLQxtgMirc"
      }
    },
    {
      "cell_type": "code",
      "source": [
        "Y = Moscow\n",
        "X = datas\n",
        "n = np.size(Moscow)"
      ],
      "metadata": {
        "id": "NPwkSce1MUQ_"
      },
      "execution_count": 168,
      "outputs": []
    },
    {
      "cell_type": "code",
      "source": [
        "(x**2).shape"
      ],
      "metadata": {
        "colab": {
          "base_uri": "https://localhost:8080/"
        },
        "id": "nODsd7EKNSuI",
        "outputId": "78f00fa1-fc5f-4e91-a8a2-08b7fdaf8868"
      },
      "execution_count": 169,
      "outputs": [
        {
          "output_type": "execute_result",
          "data": {
            "text/plain": [
              "(87,)"
            ]
          },
          "metadata": {},
          "execution_count": 169
        }
      ]
    },
    {
      "cell_type": "markdown",
      "source": [
        "O coeficniete angular por ser obitido usando a equação:\n",
        "\n",
        "\n"
      ],
      "metadata": {
        "id": "rX31iY9ZN8_z"
      }
    },
    {
      "cell_type": "code",
      "source": [
        "a = (n*np.sum(X*Y) - np.sum(X)*np.sum(Y))/(n*np.sum(X**2) - np.sum(X)**2) # basicamente o codigo esta descobrindo o mlehor coneficiente angular para minha regressão linear"
      ],
      "metadata": {
        "id": "DLg2y9kXNlaT"
      },
      "execution_count": 170,
      "outputs": []
    },
    {
      "cell_type": "code",
      "source": [
        "a"
      ],
      "metadata": {
        "colab": {
          "base_uri": "https://localhost:8080/"
        },
        "id": "MvOrVGILXUPT",
        "outputId": "b43b6a10-e20f-4109-ab74-f73c2a8f236d"
      },
      "execution_count": 171,
      "outputs": [
        {
          "output_type": "execute_result",
          "data": {
            "text/plain": [
              "0.43520212145512926"
            ]
          },
          "metadata": {},
          "execution_count": 171
        }
      ]
    },
    {
      "cell_type": "markdown",
      "source": [
        "Coeficiente linear"
      ],
      "metadata": {
        "id": "jeQe3_V6Ucfk"
      }
    },
    {
      "cell_type": "code",
      "source": [
        "b = np.mean(Y) - a*np.mean(X) # achando o melhor valor para b que é o coeficiente linear"
      ],
      "metadata": {
        "id": "6PxGaTOzN0pG"
      },
      "execution_count": 172,
      "outputs": []
    },
    {
      "cell_type": "code",
      "source": [
        "b"
      ],
      "metadata": {
        "colab": {
          "base_uri": "https://localhost:8080/"
        },
        "id": "GRh602GlXYFT",
        "outputId": "c92e4e94-5191-496b-e7ba-554ebc9c9cd8"
      },
      "execution_count": 173,
      "outputs": [
        {
          "output_type": "execute_result",
          "data": {
            "text/plain": [
              "79.64892274792834"
            ]
          },
          "metadata": {},
          "execution_count": 173
        }
      ]
    },
    {
      "cell_type": "code",
      "source": [
        "y = a*X+b # formula da regressão linear para saber o valor de y para usar depois na reta"
      ],
      "metadata": {
        "id": "MRmSD9FMUvj0"
      },
      "execution_count": 174,
      "outputs": []
    },
    {
      "cell_type": "code",
      "source": [
        "y"
      ],
      "metadata": {
        "colab": {
          "base_uri": "https://localhost:8080/"
        },
        "id": "6nRyb5yTVaI1",
        "outputId": "584d9a56-c905-46ee-f80c-913f3752c54a"
      },
      "execution_count": 175,
      "outputs": [
        {
          "output_type": "execute_result",
          "data": {
            "text/plain": [
              "array([ 80.08412487,  80.51932699,  80.95452911,  81.38973123,\n",
              "        81.82493336,  82.26013548,  82.6953376 ,  83.13053972,\n",
              "        83.56574184,  84.00094396,  84.43614608,  84.87134821,\n",
              "        85.30655033,  85.74175245,  86.17695457,  86.61215669,\n",
              "        87.04735881,  87.48256093,  87.91776306,  88.35296518,\n",
              "        88.7881673 ,  89.22336942,  89.65857154,  90.09377366,\n",
              "        90.52897578,  90.96417791,  91.39938003,  91.83458215,\n",
              "        92.26978427,  92.70498639,  93.14018851,  93.57539063,\n",
              "        94.01059276,  94.44579488,  94.880997  ,  95.31619912,\n",
              "        95.75140124,  96.18660336,  96.62180548,  97.05700761,\n",
              "        97.49220973,  97.92741185,  98.36261397,  98.79781609,\n",
              "        99.23301821,  99.66822033, 100.10342246, 100.53862458,\n",
              "       100.9738267 , 101.40902882, 101.84423094, 102.27943306,\n",
              "       102.71463519, 103.14983731, 103.58503943, 104.02024155,\n",
              "       104.45544367, 104.89064579, 105.32584791, 105.76105004,\n",
              "       106.19625216, 106.63145428, 107.0666564 , 107.50185852,\n",
              "       107.93706064, 108.37226276, 108.80746489, 109.24266701,\n",
              "       109.67786913, 110.11307125, 110.54827337, 110.98347549,\n",
              "       111.41867761, 111.85387974, 112.28908186, 112.72428398,\n",
              "       113.1594861 , 113.59468822, 114.02989034, 114.46509246,\n",
              "       114.90029459, 115.33549671, 115.77069883, 116.20590095,\n",
              "       116.64110307, 117.07630519, 117.51150731])"
            ]
          },
          "metadata": {},
          "execution_count": 175
        }
      ]
    },
    {
      "cell_type": "code",
      "source": [
        "np.linalg.norm(Moscow -y) # formula para ver a acertividade do meu y com novos valores mais acertivos comparado com preço de moscow"
      ],
      "metadata": {
        "colab": {
          "base_uri": "https://localhost:8080/"
        },
        "id": "GoCodXcSU1B4",
        "outputId": "2e5fd2b1-db89-4a2c-87a8-4fd11906a3f1"
      },
      "execution_count": 176,
      "outputs": [
        {
          "output_type": "execute_result",
          "data": {
            "text/plain": [
              "101.7969539992751"
            ]
          },
          "metadata": {},
          "execution_count": 176
        }
      ]
    },
    {
      "cell_type": "code",
      "source": [
        "plt.plot(datas,Moscow)\n",
        "plt.plot(X,y)\n",
        "plt.plot(41.5, 41.5*a+b, '*r') # Imagina que estou querendo plotar no grafico a informação do preço no mes 41.5 e to fazendo calculo da regressão linear dentro do y e o \"*r\" épara deixar uma marca"
      ],
      "metadata": {
        "colab": {
          "base_uri": "https://localhost:8080/",
          "height": 448
        },
        "id": "12l58UH8Wfw5",
        "outputId": "52f5fdaf-ec65-428e-c9d7-5c0d22c28849"
      },
      "execution_count": 177,
      "outputs": [
        {
          "output_type": "execute_result",
          "data": {
            "text/plain": [
              "[<matplotlib.lines.Line2D at 0x7b4e653f9060>]"
            ]
          },
          "metadata": {},
          "execution_count": 177
        },
        {
          "output_type": "display_data",
          "data": {
            "text/plain": [
              "<Figure size 640x480 with 1 Axes>"
            ],
            "image/png": "[encoded data removed]"
          },
          "metadata": {}
        }
      ]
    },
    {
      "cell_type": "code",
      "source": [
        "plt.plot(datas,Moscow)\n",
        "plt.plot(X,y)\n",
        "plt.plot(41.5, 41.5*a+b, '*r') # Imagina que estou querendo plotar no grafico a informação do preço no mes 41.5 e to fazendo calculo da regressão linear dentro do y e o \"*r\" épara deixar uma marca\n",
        "plt.plot(100,100*a+b,'*r')"
      ],
      "metadata": {
        "colab": {
          "base_uri": "https://localhost:8080/",
          "height": 448
        },
        "id": "0XhlkD4wW2Q8",
        "outputId": "300288de-ad23-4191-ef10-6776f8b98d8f"
      },
      "execution_count": 178,
      "outputs": [
        {
          "output_type": "execute_result",
          "data": {
            "text/plain": [
              "[<matplotlib.lines.Line2D at 0x7b4e6558c910>]"
            ]
          },
          "metadata": {},
          "execution_count": 178
        },
        {
          "output_type": "display_data",
          "data": {
            "text/plain": [
              "<Figure size 640x480 with 1 Axes>"
            ],
            "image/png": "[encoded data removed]"
          },
          "metadata": {}
        }
      ]
    },
    {
      "cell_type": "code",
      "source": [
        "np.random.randint(low=40,high=100,size=100) # np estamos chamando a função da biblioteca numpy e depois random sub-modulo e a função randit\n",
        "# O código gera uma lista de 100 números inteiros aleatórios, onde cada número está no intervalo de 40 a 99."
      ],
      "metadata": {
        "id": "IIZzrBnQW2B-",
        "colab": {
          "base_uri": "https://localhost:8080/"
        },
        "outputId": "5bc44cc8-19b1-4ac0-b818-c43a6fce6dc1"
      },
      "execution_count": 179,
      "outputs": [
        {
          "output_type": "execute_result",
          "data": {
            "text/plain": [
              "array([73, 62, 55, 50, 46, 71, 74, 53, 43, 60, 96, 63, 80, 81, 49, 92, 57,\n",
              "       85, 79, 80, 86, 83, 66, 90, 45, 85, 62, 40, 69, 40, 80, 46, 62, 48,\n",
              "       88, 98, 72, 74, 56, 48, 86, 60, 67, 55, 92, 81, 46, 90, 86, 54, 85,\n",
              "       56, 75, 49, 97, 66, 48, 40, 59, 64, 77, 98, 79, 76, 46, 91, 45, 41,\n",
              "       78, 87, 49, 48, 62, 77, 52, 58, 71, 75, 94, 61, 41, 54, 87, 55, 91,\n",
              "       74, 55, 55, 42, 59, 44, 72, 96, 50, 75, 65, 96, 42, 97, 77])"
            ]
          },
          "metadata": {},
          "execution_count": 179
        }
      ]
    },
    {
      "cell_type": "code",
      "source": [
        "coe_angulares = np.random.uniform(low=0.10,high=0.90,size=100)"
      ],
      "metadata": {
        "id": "yLKuwPHFW5XJ"
      },
      "execution_count": 180,
      "outputs": []
    },
    {
      "cell_type": "code",
      "source": [
        "norma2 = np.array([]) # Aqui, você está criando um array vazio chamado norma2, que será usado para armazenar os valores de norma que você calculará nas iterações do loop.\n",
        "\n",
        "\n",
        "# testar o array de moscow com a interação que vamos fazer criados com randomm\n",
        "for i in range(100): # Este loop irá iterar 100 vezes, uma para cada coeficiente angular que você gerou.\n",
        "     norma2 = np.append(norma2, np.linalg.norm(Moscow-(coe_angulares[i]*X+b)))# Quero fazer uma comparação entre meus valores que eu ja tenho de preço com os que vão ser gerado no coeficniete linear e angulas que criei com random\n",
        "    # você está passando a array vazia como o primeiro argumento e o cálculo da norma como o segundo argumento, e isso resulta na adição do valor da norma ao array."
      ],
      "metadata": {
        "id": "pEcc11IhZR5g"
      },
      "execution_count": 181,
      "outputs": []
    },
    {
      "cell_type": "code",
      "source": [
        "norma2  # Quero a norma de menor valor"
      ],
      "metadata": {
        "colab": {
          "base_uri": "https://localhost:8080/"
        },
        "id": "DIM8c7t4eEzJ",
        "outputId": "7cea63cd-7677-4a8c-869e-5f41caa5be49"
      },
      "execution_count": 182,
      "outputs": [
        {
          "output_type": "execute_result",
          "data": {
            "text/plain": [
              "array([107.0452206 , 198.25490639, 102.78542061, 102.33932668,\n",
              "       157.91412322, 235.89367861, 175.00383766, 102.07733257,\n",
              "       110.69793494, 107.17616533, 101.95062773, 101.8526026 ,\n",
              "       216.81226504, 145.65460139, 102.88082012, 104.70210918,\n",
              "       101.81449705, 228.33625591, 163.62745683, 106.46458705,\n",
              "       107.09033627, 105.17002173, 104.95102798, 172.98535844,\n",
              "       102.15902704, 114.63043242, 118.82816101, 104.01332559,\n",
              "       130.59107786, 105.08616892, 146.36352187, 108.87477818,\n",
              "       178.92859044, 106.8168892 , 199.00342614, 122.49710667,\n",
              "       127.01919097, 101.94553913, 104.43869964, 134.92231983,\n",
              "       108.21049977, 130.16959703, 153.02361688, 175.92608037,\n",
              "       156.18730075, 115.52788564, 180.8327543 , 161.28324391,\n",
              "       156.11657725, 101.91345151, 123.3553449 , 119.16767947,\n",
              "       160.76347045, 155.02550017, 122.35969203, 105.8897047 ,\n",
              "       227.18733287, 120.57834013, 187.5278714 , 123.3244807 ,\n",
              "       112.30093336, 101.82063634, 126.80120715, 147.25396875,\n",
              "       205.46080542, 135.43208887, 238.56128175, 102.63410347,\n",
              "       177.02237152, 219.43822921, 122.2838217 , 168.29315678,\n",
              "       175.44022301, 169.6902966 , 105.61507797, 101.92762655,\n",
              "       127.30576469, 171.68741225, 177.26198216, 172.94417902,\n",
              "       214.74526612, 152.95365197, 113.80851069, 138.8919407 ,\n",
              "       122.56589616, 229.95803877, 158.31184316, 131.82474906,\n",
              "       154.21836958, 120.48865492, 156.17103597, 131.0638744 ,\n",
              "       102.50033016, 241.85232481, 117.21757273, 160.91508567,\n",
              "       165.83797503, 163.31021016, 132.20863297, 103.56122449])"
            ]
          },
          "metadata": {},
          "execution_count": 182
        }
      ]
    },
    {
      "cell_type": "code",
      "source": [
        "norma2.min()  # menor valor da norma"
      ],
      "metadata": {
        "colab": {
          "base_uri": "https://localhost:8080/"
        },
        "id": "iRshI8Khf2YH",
        "outputId": "5aa34abc-160a-45ef-e90c-5e6b21858d82"
      },
      "execution_count": 183,
      "outputs": [
        {
          "output_type": "execute_result",
          "data": {
            "text/plain": [
              "101.8144970544436"
            ]
          },
          "metadata": {},
          "execution_count": 183
        }
      ]
    },
    {
      "cell_type": "code",
      "source": [
        "menor_indice = np.argmin(norma2)\n",
        "menor_indice"
      ],
      "metadata": {
        "colab": {
          "base_uri": "https://localhost:8080/"
        },
        "id": "V_QjJJh6hKJb",
        "outputId": "95dc6702-6b5d-4107-f7a4-691fe0ae15d4"
      },
      "execution_count": 184,
      "outputs": [
        {
          "output_type": "execute_result",
          "data": {
            "text/plain": [
              "16"
            ]
          },
          "metadata": {},
          "execution_count": 184
        }
      ]
    },
    {
      "cell_type": "code",
      "source": [
        "melhor_coef_angular = coe_angulares[menor_indice]  # Acessa o coeficiente angular correspondente\n",
        "melhor_coef_angular"
      ],
      "metadata": {
        "colab": {
          "base_uri": "https://localhost:8080/"
        },
        "id": "6YuqU0W9i4yd",
        "outputId": "fb1f410d-15bd-443e-c699-a3407fbae85e"
      },
      "execution_count": 185,
      "outputs": [
        {
          "output_type": "execute_result",
          "data": {
            "text/plain": [
              "0.4312025878287281"
            ]
          },
          "metadata": {},
          "execution_count": 185
        }
      ]
    },
    {
      "cell_type": "code",
      "source": [
        "np.random.uniform(low=0.10,high=0.90,size=100)"
      ],
      "metadata": {
        "colab": {
          "base_uri": "https://localhost:8080/"
        },
        "id": "guxGymV_jBY8",
        "outputId": "43617c12-d4cd-4f8d-ebfe-d48d939735b4"
      },
      "execution_count": 186,
      "outputs": [
        {
          "output_type": "execute_result",
          "data": {
            "text/plain": [
              "array([0.7486062 , 0.21676577, 0.6741045 , 0.39277319, 0.88697367,\n",
              "       0.32838616, 0.58166453, 0.17107259, 0.39252686, 0.51739841,\n",
              "       0.23635046, 0.20201693, 0.42879437, 0.63070821, 0.7504279 ,\n",
              "       0.75130735, 0.57716098, 0.30147262, 0.57228529, 0.22518613,\n",
              "       0.45628436, 0.16011463, 0.14293152, 0.75897457, 0.67805643,\n",
              "       0.27656274, 0.33739421, 0.45944455, 0.48456116, 0.72874995,\n",
              "       0.62966524, 0.80320734, 0.40893945, 0.19872628, 0.67224791,\n",
              "       0.1644933 , 0.38816319, 0.76536564, 0.82684804, 0.27197942,\n",
              "       0.64470731, 0.33644361, 0.58214553, 0.4180161 , 0.64799838,\n",
              "       0.54974296, 0.10427168, 0.36743587, 0.81687277, 0.43440622,\n",
              "       0.41138915, 0.76402462, 0.40584172, 0.70390083, 0.34594805,\n",
              "       0.13106522, 0.79154184, 0.42370817, 0.88939993, 0.20670599,\n",
              "       0.80798812, 0.2916688 , 0.75247634, 0.25531607, 0.54682228,\n",
              "       0.44001387, 0.27370389, 0.46456039, 0.26353453, 0.69778043,\n",
              "       0.71169933, 0.41871683, 0.60197338, 0.21607544, 0.59787188,\n",
              "       0.85743809, 0.30860728, 0.39436323, 0.50615551, 0.36395451,\n",
              "       0.3283429 , 0.16897862, 0.49274669, 0.84593961, 0.25079351,\n",
              "       0.48384369, 0.8656086 , 0.42954951, 0.32741141, 0.13264276,\n",
              "       0.8615579 , 0.78917291, 0.36964225, 0.56116517, 0.46649581,\n",
              "       0.66597215, 0.58283968, 0.25869269, 0.70639657, 0.7922518 ])"
            ]
          },
          "metadata": {},
          "execution_count": 186
        }
      ]
    },
    {
      "cell_type": "code",
      "source": [
        "np.random.seed(16) # seed é como uma chave eu colocando 16 ele vai gerar sempre a mesma sequencia de numeros\n",
        "np.random.uniform(low=0.10,high=0.90,size=100)"
      ],
      "metadata": {
        "colab": {
          "base_uri": "https://localhost:8080/"
        },
        "id": "ySEbIc9fpjLq",
        "outputId": "9a97495d-7f34-411d-a633-f8181519e6d3"
      },
      "execution_count": 187,
      "outputs": [
        {
          "output_type": "execute_result",
          "data": {
            "text/plain": [
              "array([0.27863286, 0.51853067, 0.54056117, 0.13648156, 0.38858307,\n",
              "       0.27846475, 0.65098093, 0.23098514, 0.15625989, 0.85280869,\n",
              "       0.5509451 , 0.16239387, 0.67811241, 0.22676174, 0.30022505,\n",
              "       0.3347898 , 0.65728857, 0.47141127, 0.27204971, 0.45746101,\n",
              "       0.196703  , 0.83414961, 0.55315706, 0.47761545, 0.35165314,\n",
              "       0.13457258, 0.70195593, 0.53461524, 0.71375234, 0.73235901,\n",
              "       0.1577771 , 0.62777267, 0.14263947, 0.64801956, 0.45468077,\n",
              "       0.47439692, 0.62884747, 0.65197331, 0.31066359, 0.10918315,\n",
              "       0.71703556, 0.75291386, 0.21171328, 0.5624054 , 0.37253942,\n",
              "       0.28577239, 0.258915  , 0.31719262, 0.88148221, 0.27234318,\n",
              "       0.38512593, 0.11471996, 0.59343222, 0.28432431, 0.69388139,\n",
              "       0.56740017, 0.43608284, 0.66740227, 0.87763642, 0.74803129,\n",
              "       0.44452414, 0.86618288, 0.13820648, 0.68622544, 0.64053316,\n",
              "       0.52160413, 0.55358996, 0.6783562 , 0.64608268, 0.73625014,\n",
              "       0.19027642, 0.25933011, 0.67705538, 0.41509386, 0.37134832,\n",
              "       0.22275655, 0.18045921, 0.42579769, 0.56633237, 0.69257642,\n",
              "       0.79628867, 0.87322093, 0.46445188, 0.4203384 , 0.3391517 ,\n",
              "       0.76268805, 0.82787294, 0.71290934, 0.15465183, 0.58482122,\n",
              "       0.85137291, 0.18171413, 0.88203161, 0.38535098, 0.62334973,\n",
              "       0.19822857, 0.86908175, 0.62094514, 0.84934225, 0.82706184])"
            ]
          },
          "metadata": {},
          "execution_count": 187
        }
      ]
    },
    {
      "cell_type": "code",
      "source": [
        "np.random.seed(84)\n",
        "coef_angulares = np.random.uniform(low=0.10,high=0.90,size=100)\n",
        "norma2 = np.array([])\n",
        "for i in range(100):\n",
        "    norma2 = np.append(norma2, np.linalg.norm(Moscow-(coef_angulares[i]*X+b)))"
      ],
      "metadata": {
        "id": "RJrRSH1UqLAD"
      },
      "execution_count": 188,
      "outputs": []
    },
    {
      "cell_type": "code",
      "source": [
        "norma2"
      ],
      "metadata": {
        "colab": {
          "base_uri": "https://localhost:8080/"
        },
        "id": "ZBnJMrvhsc4J",
        "outputId": "1312e41a-443a-4f66-bcfb-22ca014515ea"
      },
      "execution_count": 189,
      "outputs": [
        {
          "output_type": "execute_result",
          "data": {
            "text/plain": [
              "array([173.90151233, 103.45241986, 121.75367289, 128.97173036,\n",
              "       238.69504078, 149.16590195, 137.73123242, 118.54419212,\n",
              "       101.79720981, 149.04689147, 112.80225228, 105.8049351 ,\n",
              "       230.82444742, 111.69709582, 134.56525603, 110.93209631,\n",
              "       204.12484401, 196.82117307, 221.88687726, 156.13691054,\n",
              "       125.51272174, 136.46474504, 165.39506278, 240.68784732,\n",
              "       104.52254473, 188.75637903, 131.2292927 , 128.94885341,\n",
              "       234.70773582, 147.01799832, 113.7418054 , 116.94496221,\n",
              "       109.58257043, 107.09546548, 145.00728041, 182.83818792,\n",
              "       140.95017242, 106.12371866, 107.0915778 , 132.45242448,\n",
              "       144.8736358 , 143.54772697, 240.23793834, 113.74604121,\n",
              "       116.01191029, 152.02977343, 174.72333708, 141.8068161 ,\n",
              "       101.93467119, 103.01538109, 169.59787792, 128.13083711,\n",
              "       105.06648948, 101.83421597, 102.53716362, 113.63850533,\n",
              "       219.96993004, 117.37921502, 182.70217805, 146.69612581,\n",
              "       178.64742004, 132.25425967, 109.74998636, 186.49825034,\n",
              "       104.98272763, 133.73791912, 182.82613374, 235.49081018,\n",
              "       179.79275527, 228.72013359, 184.2584889 , 114.02435937,\n",
              "       124.95415977, 187.42082714, 105.18421164, 102.1005486 ,\n",
              "       135.72717949, 107.19212075, 114.07766563, 225.76351056,\n",
              "       103.96340568, 118.21130391, 109.96158846, 181.54233309,\n",
              "       114.09828878, 118.61778913, 224.37792949, 153.50523694,\n",
              "       185.44994519, 117.35423938, 151.19534147, 118.44720795,\n",
              "       112.26379208, 104.60483872, 123.8587347 , 111.40038324,\n",
              "       102.05294074, 150.97459646, 108.76787533, 107.97542886])"
            ]
          },
          "metadata": {},
          "execution_count": 189
        }
      ]
    },
    {
      "cell_type": "code",
      "source": [
        "coef_angulares[np.argmin(norma2)]"
      ],
      "metadata": {
        "colab": {
          "base_uri": "https://localhost:8080/"
        },
        "id": "MaSzHGuosgth",
        "outputId": "b4605d9d-e586-4733-a77c-2b3d68cda89b"
      },
      "execution_count": 190,
      "outputs": [
        {
          "output_type": "execute_result",
          "data": {
            "text/plain": [
              "0.43471917334609456"
            ]
          },
          "metadata": {},
          "execution_count": 190
        }
      ]
    },
    {
      "cell_type": "code",
      "source": [
        "dados = np.column_stack([norma2, coef_angulares]) # Basicamente, esta função pega arrays unidimensionais, como os que criamos, e os agrega em um único array bidimensional. Para isso, passamos uma lista com os arrays:"
      ],
      "metadata": {
        "id": "o4zXwRhgsxNS"
      },
      "execution_count": 191,
      "outputs": []
    },
    {
      "cell_type": "code",
      "source": [
        "dados.shape"
      ],
      "metadata": {
        "colab": {
          "base_uri": "https://localhost:8080/"
        },
        "id": "6U41JRadtdbp",
        "outputId": "17fbc0c2-cf44-4e34-c15f-abd4ccfedca8"
      },
      "execution_count": 192,
      "outputs": [
        {
          "output_type": "execute_result",
          "data": {
            "text/plain": [
              "(100, 2)"
            ]
          },
          "metadata": {},
          "execution_count": 192
        }
      ]
    },
    {
      "cell_type": "code",
      "source": [
        "np.savetxt('dados.csv',dados,delimiter=',') # estou salvando em um docuemnto esse arquivo , basimcente vai virar um arquivo que posso ver futuramente\n",
        "# savetxt uma função que leva como arumento nome do arquivo que eu quero , os dados que quero trasnformar e o delimetador"
      ],
      "metadata": {
        "id": "wBuSuMMktrk6"
      },
      "execution_count": 193,
      "outputs": []
    },
    {
      "cell_type": "code",
      "source": [
        "x = [0,1,2,3,4,5,6,7,8,9,10]\n",
        "y = []\n",
        "\n",
        "for i in x:\n",
        "  y.append(i + 3 / 2)\n",
        "\n",
        "\n",
        "y"
      ],
      "metadata": {
        "colab": {
          "base_uri": "https://localhost:8080/"
        },
        "id": "YEHrwpygps39",
        "outputId": "513b0d99-5d82-44e4-8e1f-f4eeb0643c3a"
      },
      "execution_count": 194,
      "outputs": [
        {
          "output_type": "execute_result",
          "data": {
            "text/plain": [
              "[1.5, 2.5, 3.5, 4.5, 5.5, 6.5, 7.5, 8.5, 9.5, 10.5, 11.5]"
            ]
          },
          "metadata": {},
          "execution_count": 194
        }
      ]
    },
    {
      "cell_type": "code",
      "source": [
        "x = [0,1,2,3,4,5,6,7,8,9,10]\n",
        "y = np.array([])\n",
        "\n",
        "for  i in x:\n",
        "  y = np.append(y, i + 3/2)\n",
        "\n",
        "y"
      ],
      "metadata": {
        "colab": {
          "base_uri": "https://localhost:8080/"
        },
        "id": "CD7h5IzQrlqK",
        "outputId": "63a58e4a-5fdb-4025-8317-2447b8b0f26e"
      },
      "execution_count": 195,
      "outputs": [
        {
          "output_type": "execute_result",
          "data": {
            "text/plain": [
              "array([ 1.5,  2.5,  3.5,  4.5,  5.5,  6.5,  7.5,  8.5,  9.5, 10.5, 11.5])"
            ]
          },
          "metadata": {},
          "execution_count": 195
        }
      ]
    },
    {
      "cell_type": "markdown",
      "source": [
        "Geração do Valor Previsto: Para cada coeficiente angular ( a ) gerado aleatoriamente, o código calcula o valor previsto de ( y ) (que representa o preço) usando a fórmula ( y = a \\cdot X + b ). Aqui, ( X ) são os dados de entrada e ( b ) é o coeficiente linear.\n",
        "\n",
        "Cálculo da Diferença: Em seguida, ele subtrai esses valores previstos dos valores reais que você tem no seu banco de dados (em Moscow). Isso resulta em um array de diferenças, onde cada elemento representa a discrepância entre um valor real e o valor previsto correspondente.\n",
        "\n",
        "Cálculo da Norma: A função np.linalg.norm() é então utilizada para calcular a norma desse array de diferenças. O resultado é um único número que quantifica a \"distância\" total entre os valores reais e os valores previstos. Esse número indica quão bem o modelo se ajustou aos dados.\n",
        "\n",
        "Repetição do Processo: Esse processo é repetido 100 vezes, uma para cada coeficiente angular gerado. Assim, você obtém 100 valores de norma, cada um representando a qualidade do ajuste do modelo para um coeficiente angular diferente.\n",
        "\n",
        "Avaliação do Melhor Ajuste: Ao final, você analisa os 100 valores de norma para identificar qual deles é o menor. O coeficiente angular correspondente a esse menor valor de norma é considerado o melhor ajuste para o seu modelo.\n",
        "\n",
        "E sim, esse processo pode ser um pouco demorado, especialmente se você estiver testando muitos coeficientes. No entanto, é uma abordagem comum em análise de dados e modelagem, pois permite explorar diferentes cenários e encontrar o melhor ajuste para os seus dados."
      ],
      "metadata": {
        "id": "q5XjMX8TdTSU"
      }
    },
    {
      "cell_type": "code",
      "source": [],
      "metadata": {
        "id": "b-PWCbjiagr5"
      },
      "execution_count": 195,
      "outputs": []
    },
    {
      "cell_type": "markdown",
      "source": [
        "Chegou a hora de você testar os conhecimentos desenvolvidos durante a aula. Para isso, vamos utilizar outro dataset em um desafio que será desenvolvido no decorrer do curso. Esse dataset é uma versão modificada do arquivo Oranges vs. Grapefruit presente no site do Kaggle. Portanto, utilizaremos o arquivo raw disponível no GitHub.\n",
        "\n",
        "Nessa etapa, você deve efetuar a leitura dos dados. Para isso, importe a NumPy e use a função loadtxt. Use o link da url e o parâmetro usecols para pular a primeira coluna. É possível usar np.arange para criar a sequência de números que representam as colunas. Por fim, também é necessário incluir o parâmetro skiprows=1 para que a primeira linha de texto seja desconsiderada na leitura do arquivo.\n",
        "\n"
      ],
      "metadata": {
        "id": "JQr2St2SXmOk"
      }
    },
    {
      "cell_type": "code",
      "source": [
        "import numpy as np"
      ],
      "metadata": {
        "id": "RZ3cK62IXpEp"
      },
      "execution_count": 196,
      "outputs": []
    },
    {
      "cell_type": "code",
      "source": [
        "url = 'https://raw.githubusercontent.com/allanspadini/numpy/dados/citrus.csv'"
      ],
      "metadata": {
        "id": "30pJxO0qX5HY"
      },
      "execution_count": 197,
      "outputs": []
    },
    {
      "cell_type": "code",
      "source": [
        "orange_dados = np.loadtxt(url, delimiter= ',', usecols=np.arange(1,6,1),skiprows=1) # skiprows=1 foi usado para não contar com a primeira linha do dataset por se tratar de string"
      ],
      "metadata": {
        "id": "0fPVoeOLX3Oc"
      },
      "execution_count": 198,
      "outputs": []
    },
    {
      "cell_type": "code",
      "source": [
        "orange_dados"
      ],
      "metadata": {
        "colab": {
          "base_uri": "https://localhost:8080/"
        },
        "id": "NhhgJWsjZ2HO",
        "outputId": "635e5b63-75c0-43a0-d35d-882ee5cef36c"
      },
      "execution_count": 199,
      "outputs": [
        {
          "output_type": "execute_result",
          "data": {
            "text/plain": [
              "array([[  2.96,  86.76, 172.  ,  85.  ,   2.  ],\n",
              "       [  3.91,  88.05, 166.  ,  78.  ,   3.  ],\n",
              "       [  4.42,  95.17, 156.  ,  81.  ,   2.  ],\n",
              "       ...,\n",
              "       [ 15.59, 256.5 , 168.  ,  82.  ,  20.  ],\n",
              "       [ 15.92, 260.14, 142.  ,  72.  ,  11.  ],\n",
              "       [ 16.45, 261.51, 152.  ,  74.  ,   2.  ]])"
            ]
          },
          "metadata": {},
          "execution_count": 199
        }
      ]
    },
    {
      "cell_type": "code",
      "source": [
        "orange_dados.T"
      ],
      "metadata": {
        "colab": {
          "base_uri": "https://localhost:8080/"
        },
        "id": "12gK1p2ab6jZ",
        "outputId": "691befc3-6723-4924-bef3-42d1ca648910"
      },
      "execution_count": 200,
      "outputs": [
        {
          "output_type": "execute_result",
          "data": {
            "text/plain": [
              "array([[  2.96,   3.91,   4.42, ...,  15.59,  15.92,  16.45],\n",
              "       [ 86.76,  88.05,  95.17, ..., 256.5 , 260.14, 261.51],\n",
              "       [172.  , 166.  , 156.  , ..., 168.  , 142.  , 152.  ],\n",
              "       [ 85.  ,  78.  ,  81.  , ...,  82.  ,  72.  ,  74.  ],\n",
              "       [  2.  ,   3.  ,   2.  , ...,  20.  ,  11.  ,   2.  ]])"
            ]
          },
          "metadata": {},
          "execution_count": 200
        }
      ]
    },
    {
      "cell_type": "code",
      "source": [
        "diametro_laranja = orange_dados[:5000,0]  # preciso pegar os 5000 primeiros diametro do indice 0 então coloco :5000\n",
        "diametro_toranja = orange_dados[5000:,0] # aqui preciso pegar algo depois do 5000 então coloco 5000:\n",
        "peso_laranja = orange_dados[:5000,1] # aqui mesma coisa mas no indice 2\n",
        "peso_toranja = orange_dados[5000:,1]"
      ],
      "metadata": {
        "id": "SFkQXdvJt-V9"
      },
      "execution_count": 201,
      "outputs": []
    },
    {
      "cell_type": "code",
      "source": [
        "import matplotlib.pyplot as plt  # Importa a biblioteca para criar gráficos\n",
        "\n",
        "# Cria uma nova figura para o gráfico com um tamanho específico (10x5 polegadas)\n",
        "plt.figure(figsize=(10, 5))\n",
        "\n",
        "# Plota os dados das laranjas:\n",
        "# 'o' especifica que os dados são mostrados como pontos circulares.\n",
        "# 'label' define o nome que será exibido na legenda do gráfico.\n",
        "# 'markersize' define o tamanho dos marcadores (os pontos) no gráfico.\n",
        "plt.plot(diametro_laranja, peso_laranja, 'o', label='Laranja', markersize=3)\n",
        "\n",
        "# Plota os dados das toranjas:\n",
        "# 'x' especifica que os dados são mostrados como pontos cruzados.\n",
        "plt.plot(diametro_toranja, peso_toranja, 'x', label='Toranja', markersize=3)\n",
        "\n",
        "# Define o rótulo do eixo x (horizontal) como \"Diâmetro (cm)\"\n",
        "plt.xlabel('Diâmetro (cm)')\n",
        "\n",
        "# Define o rótulo do eixo y (vertical) como \"Peso (kg)\"\n",
        "plt.ylabel('Peso (kg)')\n",
        "\n",
        "# Define o título do gráfico que aparece na parte superior\n",
        "plt.title('Peso vs Diâmetro: Laranja e Toranja')\n",
        "\n",
        "# Adiciona uma legenda ao gráfico para identificar os diferentes tipos de dados\n",
        "plt.legend()\n",
        "\n",
        "# Adiciona uma grade ao gráfico para melhor visualização dos dados\n",
        "plt.grid()\n",
        "\n",
        "# Exibe o gráfico na tela\n",
        "plt.show()"
      ],
      "metadata": {
        "colab": {
          "base_uri": "https://localhost:8080/",
          "height": 368
        },
        "id": "T0EH4F0Fwu7w",
        "outputId": "e1ca92e9-7765-49d9-f6c1-79d2e02d8d35"
      },
      "execution_count": 202,
      "outputs": [
        {
          "output_type": "display_data",
          "data": {
            "text/plain": [
              "<Figure size 1000x500 with 1 Axes>"
            ],
            "image/png": "[encoded data removed]"
          },
          "metadata": {}
        }
      ]
    },
    {
      "cell_type": "code",
      "source": [
        "def calcular_coeficientes(x, y):\n",
        "    n = len(x)  # Obtém o número de elementos em x (número de dados)\n",
        "\n",
        "    # Cálculo do coeficiente angular (a) usando a fórmula:\n",
        "    # a é a inclinação da linha de regressão, calculada usando a covariância de x e y\n",
        "    a = np.sum((x - np.mean(x)) * (y - np.mean(y))) / np.sum((x - np.mean(x)) ** 2)\n",
        "\n",
        "    # Cálculo do coeficiente linear (b) usando a média:\n",
        "    # b é o intercepto da linha de regressão, calculado a partir da média de y e da inclinação a\n",
        "    b = np.mean(y) - a * np.mean(x)\n",
        "\n",
        "    return a, b  # Retorna os coeficientes a e b\n",
        "\n",
        "# Calcula os coeficientes para as laranjas usando os dados de diâmetro e peso\n",
        "a_laranja, b_laranja = calcular_coeficientes(diametro_laranja, peso_laranja)\n",
        "\n",
        "# Calcula os coeficientes para as toranjas usando os dados de diâmetro e peso\n",
        "a_toranja, b_toranja = calcular_coeficientes(diametro_toranja, peso_toranja)\n",
        "\n",
        "# Exibe os coeficientes calculados para as laranjas formatados com quatro casas decimais\n",
        "print(f\"Coeficientes Laranja: a = {a_laranja:.4f}, b = {b_laranja:.4f}\")\n",
        "\n",
        "# Exibe os coeficientes calculados para as toranjas formatados com quatro casas decimais\n",
        "print(f\"Coeficientes Toranja: a = {a_toranja:.4f}, b = {b_toranja:.4f}\")"
      ],
      "metadata": {
        "colab": {
          "base_uri": "https://localhost:8080/"
        },
        "id": "cwUnmWhicGXV",
        "outputId": "f1133a41-1786-41f5-bde3-7deada443cc5"
      },
      "execution_count": 203,
      "outputs": [
        {
          "output_type": "stream",
          "name": "stdout",
          "text": [
            "Coeficientes Laranja: a = 14.7997, b = 27.3856\n",
            "Coeficientes Toranja: a = 15.7088, b = 17.0071\n"
          ]
        }
      ]
    },
    {
      "cell_type": "code",
      "source": [
        "# Para laranja, estou realizando a regressão linear para prever os valores de peso (y)\n",
        "# com base no diâmetro (x).\n",
        "y_laranja = a_laranja * diametro_laranja + b_laranja\n",
        "\n",
        "# Para toranja, estou utilizando a regressão linear para prever os valores de peso (y)\n",
        "# com base no diâmetro (x).\n",
        "y_toranja = a_toranja * diametro_toranja + b_toranja"
      ],
      "metadata": {
        "id": "BYHc4SIDfZWX"
      },
      "execution_count": 204,
      "outputs": []
    },
    {
      "cell_type": "code",
      "source": [
        "# Criação de uma nova figura para o gráfico com um tamanho específico (10 polegadas de largura por 5 polegadas de altura)\n",
        "plt.figure(figsize=(10, 5))\n",
        "\n",
        "# Plota os dados das laranjas como pontos circulares ('o'), com um tamanho de marcador de 3\n",
        "plt.plot(diametro_laranja, peso_laranja, 'o', label='Laranja', markersize=3)\n",
        "\n",
        "# Plota os dados das toranjas como pontos cruzados ('x'), com um tamanho de marcador de 3\n",
        "plt.plot(diametro_toranja, peso_toranja, 'x', label='Toranja', markersize=3)\n",
        "\n",
        "# Plota a linha de regressão para laranjas, conectando os valores previstos (y_laranja) com o diâmetro correspondente\n",
        "plt.plot(diametro_laranja, y_laranja)\n",
        "\n",
        "# Plota a linha de regressão para toranjas, conectando os valores previstos (y_toranja) com o diâmetro correspondente\n",
        "plt.plot(diametro_toranja, y_toranja)\n",
        "\n",
        "# Define o rótulo do eixo x como \"Diâmetro (cm)\"\n",
        "plt.xlabel('Diâmetro (cm)')\n",
        "\n",
        "# Define o rótulo do eixo y como \"Peso (kg)\"\n",
        "plt.ylabel('Peso (kg)')\n",
        "\n",
        "# Define o título do gráfico, indicando que ele mostra a relação entre peso e diâmetro para laranja e toranja\n",
        "plt.title('Peso vs Diâmetro: Laranja e Toranja')\n",
        "\n",
        "# Adiciona uma legenda ao gráfico para identificar os diferentes tipos de dados\n",
        "plt.legend()\n",
        "\n",
        "# Adiciona uma grade ao gráfico para facilitar a visualização dos dados\n",
        "plt.grid()\n",
        "\n",
        "# Exibe o gráfico na tela\n",
        "plt.show()"
      ],
      "metadata": {
        "colab": {
          "base_uri": "https://localhost:8080/",
          "height": 368
        },
        "id": "Da9f2mj7fdls",
        "outputId": "a40d4626-c358-42d2-c547-89b90d0b5e61"
      },
      "execution_count": 205,
      "outputs": [
        {
          "output_type": "display_data",
          "data": {
            "text/plain": [
              "<Figure size 1000x500 with 1 Axes>"
            ],
            "image/png": "[encoded data removed]"
          },
          "metadata": {}
        }
      ]
    },
    {
      "cell_type": "markdown",
      "source": [
        "Chegou a hora de você testar os conhecimentos desenvolvidos durante a aula. Continuando com o projeto das laranjas/toranjas, agora você deve calcular o coeficiente angular utilizando a geração de números aleatórios. Assuma que já conhece b e que este é igual a 17."
      ],
      "metadata": {
        "id": "jRwQNzc0CQxm"
      }
    },
    {
      "cell_type": "code",
      "source": [
        "\n",
        "Y = peso_laranja\n",
        "X = diametro_laranja\n",
        "n = np.size(X)"
      ],
      "metadata": {
        "id": "wt-KIC3cFm7Z"
      },
      "execution_count": 226,
      "outputs": []
    },
    {
      "cell_type": "code",
      "source": [
        "a = (n*np.sum(X*Y) - np.sum(X)*np.sum(Y))/(n*np.sum(X**2)-np.sum(X)**2)\n",
        "a\n",
        ""
      ],
      "metadata": {
        "colab": {
          "base_uri": "https://localhost:8080/"
        },
        "id": "iwW1PYQQHKoB",
        "outputId": "b941eeef-62a6-48d1-b9de-58705fd7def8"
      },
      "execution_count": 227,
      "outputs": [
        {
          "output_type": "execute_result",
          "data": {
            "text/plain": [
              "14.7997452319846"
            ]
          },
          "metadata": {},
          "execution_count": 227
        }
      ]
    },
    {
      "cell_type": "code",
      "source": [
        "\n",
        "b = np.mean(Y) - a*np.mean(X)\n",
        "b"
      ],
      "metadata": {
        "colab": {
          "base_uri": "https://localhost:8080/"
        },
        "id": "yEdz8akJHOC-",
        "outputId": "fc243813-4a28-40da-c1f8-b1438946e0f7"
      },
      "execution_count": 228,
      "outputs": [
        {
          "output_type": "execute_result",
          "data": {
            "text/plain": [
              "27.38560381218413"
            ]
          },
          "metadata": {},
          "execution_count": 228
        }
      ]
    },
    {
      "cell_type": "code",
      "source": [
        "Y = peso_toranja\n",
        "X = diametro_toranja\n",
        "n = np.size(X)\n",
        ""
      ],
      "metadata": {
        "id": "LwQZhu6EHQx_"
      },
      "execution_count": 229,
      "outputs": []
    },
    {
      "cell_type": "code",
      "source": [
        "\n",
        "a = (n*np.sum(X*Y) - np.sum(X)*np.sum(Y))/(n*np.sum(X**2)-np.sum(X)**2)\n",
        "a\n",
        ""
      ],
      "metadata": {
        "colab": {
          "base_uri": "https://localhost:8080/"
        },
        "id": "2E_W8OyXHUZz",
        "outputId": "5096023d-d8f2-4ebe-cb00-eb912db05a75"
      },
      "execution_count": 230,
      "outputs": [
        {
          "output_type": "execute_result",
          "data": {
            "text/plain": [
              "15.70884459360376"
            ]
          },
          "metadata": {},
          "execution_count": 230
        }
      ]
    },
    {
      "cell_type": "code",
      "source": [
        "\n",
        "b = np.mean(Y) - a*np.mean(X)\n",
        "b\n",
        ""
      ],
      "metadata": {
        "colab": {
          "base_uri": "https://localhost:8080/"
        },
        "id": "Gu-kQRnaHWsI",
        "outputId": "b63612de-dfcc-4fcc-a249-b7d12fe20efa"
      },
      "execution_count": 232,
      "outputs": [
        {
          "output_type": "execute_result",
          "data": {
            "text/plain": [
              "17.007102876817726"
            ]
          },
          "metadata": {},
          "execution_count": 232
        }
      ]
    },
    {
      "cell_type": "code",
      "source": [
        "b =17"
      ],
      "metadata": {
        "id": "8afQ6ZwxHfTZ"
      },
      "execution_count": 233,
      "outputs": []
    },
    {
      "cell_type": "code",
      "source": [
        "norma = np.array([])\n",
        "np.random.seed(84)\n",
        "coef_angulares = np.random.uniform(low=0.0,high=30.0,size=100)\n",
        "\n",
        "for i in range(100):\n",
        "  norma = np.append(norma,np.linalg.norm(Y- (coef_angulares[i]*X+b)))"
      ],
      "metadata": {
        "id": "vVrNV53SBlAo"
      },
      "execution_count": 234,
      "outputs": []
    },
    {
      "cell_type": "code",
      "source": [
        "norma"
      ],
      "metadata": {
        "colab": {
          "base_uri": "https://localhost:8080/"
        },
        "id": "bs9-gzIiEJKV",
        "outputId": "acd4216f-6369-4070-e1d9-57fb41c02e21"
      },
      "execution_count": 235,
      "outputs": [
        {
          "output_type": "execute_result",
          "data": {
            "text/plain": [
              "array([11693.67355856,  3756.21335179,  6888.14382259,  2567.04685515,\n",
              "       11420.77932891,  9623.66917996,  8570.85655292,  6496.51679273,\n",
              "        2577.28271294,  9613.12064833,  5709.72883857,   695.35964734,\n",
              "       10855.07029288,  5539.82389583,  3137.98293399,   296.30778902,\n",
              "        8896.93668493,  8347.82090288, 10206.95670568, 10229.7542583 ,\n",
              "        2193.54863897,  8448.39951623, 11004.80458021, 11563.3388543 ,\n",
              "        4098.18752189,  7732.70842098,  2801.84736004,  7688.60780777,\n",
              "       11134.73586307,  9432.12778879,   725.4664674 ,  6290.36141277,\n",
              "        5189.67184491,  4716.99608173,  9250.47142251,  7274.49676931,\n",
              "        8876.20611799,   621.16747277,  4716.1854569 ,  8050.51001798,\n",
              "        9238.31227388,  3992.98429323, 11531.1764187 ,  5849.11139809,\n",
              "        1042.57303406,  9875.3710071 , 11759.24152592,  8956.15615033,\n",
              "        2219.50808351,  3585.49846047, 11347.59016791,  2477.87811921,\n",
              "         878.91891293,  2740.88025627,  1766.171738  ,   710.47076735,\n",
              "       10067.07162101,  6347.17090822, 12388.06675209,  4279.10033959,\n",
              "        6946.02067623,  2906.41428845,   104.40529157,  7558.60939751,\n",
              "        4224.62973567,  8179.74838026, 12397.73292649, 11190.99930959,\n",
              "        7036.14719367, 10703.05130551, 12509.21786548,  5889.31418963,\n",
              "        7255.35608235, 12754.02485478,  4277.22119478,  2053.04097821,\n",
              "        8376.42892243,   389.94011406,  5896.97003989, 10488.87297294,\n",
              "        1195.54220071,  6454.27729425,  5255.27304236, 12297.4767493 ,\n",
              "        5899.92818696,  6505.81020644, 10388.25661606,  4879.40103495,\n",
              "        7477.48430382,  1220.34716028,  9802.44671627,  1360.59082421,\n",
              "         505.47719741,  1003.95500109,  2008.05819559,   371.10522699,\n",
              "        2094.74163899,  4658.97873807,  5043.61920931,  4893.93574007])"
            ]
          },
          "metadata": {},
          "execution_count": 235
        }
      ]
    },
    {
      "cell_type": "code",
      "source": [
        "np.min(norma)"
      ],
      "metadata": {
        "colab": {
          "base_uri": "https://localhost:8080/"
        },
        "id": "yl9EbyQdHmvJ",
        "outputId": "ee567a21-4850-4eae-eb0c-afd8bae6da79"
      },
      "execution_count": 236,
      "outputs": [
        {
          "output_type": "execute_result",
          "data": {
            "text/plain": [
              "104.40529157196431"
            ]
          },
          "metadata": {},
          "execution_count": 236
        }
      ]
    },
    {
      "cell_type": "code",
      "source": [
        "coef_angulares[norma == np.min(norma)]"
      ],
      "metadata": {
        "colab": {
          "base_uri": "https://localhost:8080/"
        },
        "id": "b_ARVJuzHoRF",
        "outputId": "2cc239f4-5c0d-434a-dd66-dfc674bd77e2"
      },
      "execution_count": 237,
      "outputs": [
        {
          "output_type": "execute_result",
          "data": {
            "text/plain": [
              "array([15.82512199])"
            ]
          },
          "metadata": {},
          "execution_count": 237
        }
      ]
    }
  ]
}